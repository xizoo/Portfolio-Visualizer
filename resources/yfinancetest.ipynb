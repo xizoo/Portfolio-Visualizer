{
 "cells": [
  {
   "cell_type": "code",
   "execution_count": 36,
   "id": "f29f51a9",
   "metadata": {},
   "outputs": [],
   "source": [
    "import yfinance as yf\n",
    "import pandas as pd\n",
    "import numpy as np\n",
    "import scipy.optimize as sciop"
   ]
  },
  {
   "cell_type": "code",
   "execution_count": null,
   "id": "e7bfecc2",
   "metadata": {},
   "outputs": [],
   "source": [
    "# User Defined Stock Tickers \n",
    "assetlist = [\"AAPL\",\"MSFT\",\"GOOGL\",\"META\",\"SPY\"]\n",
    "marketlist = [\"US\",\"Japan\",\"UK\"]\n"
   ]
  },
  {
   "cell_type": "code",
   "execution_count": 62,
   "id": "135f3970",
   "metadata": {},
   "outputs": [
    {
     "name": "stderr",
     "output_type": "stream",
     "text": [
      "/var/folders/yj/_sykjyks31j7t9pdm3jfl0v00000gn/T/ipykernel_92539/2963078414.py:2: FutureWarning: YF.download() has changed argument auto_adjust default to True\n",
      "  stock_price = yf.download(tickers=assetlist,period = \"10y\", interval =\"1mo\")\n",
      "[*********************100%***********************]  5 of 5 completed\n"
     ]
    },
    {
     "data": {
      "text/plain": [
       "<yfinance.domain.market.Market at 0x12d00fd70>"
      ]
     },
     "execution_count": 62,
     "metadata": {},
     "output_type": "execute_result"
    }
   ],
   "source": [
    "# Using YFinance to obtain stock close Price\n",
    "stock_price = yf.download(tickers=assetlist,period = \"10y\", interval =\"1mo\")\n",
    "# Find stock return\n",
    "stock_return = stock_price[\"Close\"].pct_change().dropna()\n",
    "\n",
    "# Finding Market\n",
    "yf.Market(\"US\")\n"
   ]
  },
  {
   "cell_type": "code",
   "execution_count": null,
   "id": "e5d0196c",
   "metadata": {},
   "outputs": [],
   "source": [
    "# Get mean and stdev of the stocks\n",
    "mean_return = stock_return.mean()\n",
    "stdev_return = np.std(stock_return,axis=0)\n",
    "\n",
    "# Merge into a table\n",
    "asset_risk_return_df = pd.DataFrame([mean_return, stdev_return],index=[\"Return\", \"Deviation\"]).T \n",
    "\n",
    "# Get correlation between each stock\n",
    "asset_correlation_matrix_df= stock_return.corr()"
   ]
  },
  {
   "cell_type": "code",
   "execution_count": 56,
   "id": "79dc920c",
   "metadata": {},
   "outputs": [
    {
     "name": "stdout",
     "output_type": "stream",
     "text": [
      "\n",
      "      MVP Portfolio Generated:\n",
      "      {'AAPL': np.float64(0.0), 'MSFT': np.float64(0.0), 'GOOGL': np.float64(5.0756441812853116e-17), 'META': np.float64(0.22522840378108), 'SPY': np.float64(0.77477159621892)}\n",
      "      \n"
     ]
    }
   ],
   "source": [
    "# Finding Weightage of Portfolio on Global Minimum Variance\n",
    "\n",
    "# Define order\n",
    "asset_order = asset_risk_return_df.index\n",
    "# Reindex correlation matrix rows and columns\n",
    "asset_correlation_matrix_df = asset_correlation_matrix_df.loc[asset_order, asset_order]\n",
    "\n",
    "# Get deviations\n",
    "deviations = asset_risk_return_df[\"Deviation\"].values\n",
    "\n",
    "# Multiply element-wise\n",
    "cov_matrix = np.outer(deviations, deviations) * asset_correlation_matrix_df.values\n",
    "\n",
    "# Step 2: Create covariance matrix\n",
    "# correlation_matrix = asset_correlation_matrix_df  # ensure correct order\n",
    "# cov_matrix = np.outer(std_devs, std_devs) * correlation_matrix\n",
    "\n",
    "# Step 3: Define Minimum Variance Function\n",
    "def global_min_var_portfolio(weights):\n",
    "    return weights.T @ cov_matrix @ weights # Matrix multiplication to find variance\n",
    "\n",
    "# Step 4: Define Constraints and Bounds\n",
    "number_of_assets = len(assetlist) # asset count\n",
    "init_guess = np.ones(number_of_assets)/number_of_assets # start with equal weightages\n",
    "bounds = [(0,1) for a in range(number_of_assets)] # Bound the Asset weightage\n",
    "constraints = {'type': 'eq', # Equality Constraint\n",
    "               'fun' : lambda w : np.sum(w)-1 # Must Equal to 0\n",
    "               # This constraint ensures that sum of all weight = 1\n",
    "               # or sum of weight - 1 = 0\n",
    "               }\n",
    "\n",
    "# Step 5: Solve for Efficient Portfolio\n",
    "result = sciop.minimize(global_min_var_portfolio, init_guess, method='SLSQP',\n",
    "                bounds=bounds, constraints=constraints)\n",
    "\n",
    "# Step 6: Output Weightages\n",
    "min_variance_weights = result.x\n",
    "MVP_portfolio = dict(zip(assetlist, min_variance_weights))\n",
    "print(f'''\n",
    "      MVP Portfolio Generated:\n",
    "      {MVP_portfolio}\n",
    "      ''')"
   ]
  },
  {
   "cell_type": "code",
   "execution_count": null,
   "id": "fae88add",
   "metadata": {},
   "outputs": [],
   "source": []
  }
 ],
 "metadata": {
  "kernelspec": {
   "display_name": "Python 3",
   "language": "python",
   "name": "python3"
  },
  "language_info": {
   "codemirror_mode": {
    "name": "ipython",
    "version": 3
   },
   "file_extension": ".py",
   "mimetype": "text/x-python",
   "name": "python",
   "nbconvert_exporter": "python",
   "pygments_lexer": "ipython3",
   "version": "3.12.5"
  }
 },
 "nbformat": 4,
 "nbformat_minor": 5
}
