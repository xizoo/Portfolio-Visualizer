{
 "cells": [
  {
   "cell_type": "markdown",
   "id": "31d07433",
   "metadata": {},
   "source": [
    "# Part 1: 2 Asset Optimization"
   ]
  },
  {
   "cell_type": "markdown",
   "id": "accd9135",
   "metadata": {},
   "source": [
    "1. Get data (yfinance/api)\n",
    "2. find mean, stdev and correlation\n",
    "3. create table for weightage\n",
    "4. create MVP portfolio (solver) \n",
    "5. plot MVP line with CAL line\n",
    "6. "
   ]
  },
  {
   "cell_type": "code",
   "execution_count": 42,
   "id": "83f81632",
   "metadata": {},
   "outputs": [],
   "source": [
    "# Import Library\n",
    "import yfinance as yf\n",
    "import pandas as pd\n",
    "import numpy as np\n",
    "import matplotlib.pyplot as plt\n",
    "import scipy.optimize as sciop\n",
    "from datetime import datetime\n",
    "import os"
   ]
  },
  {
   "cell_type": "code",
   "execution_count": 43,
   "id": "3c86f014",
   "metadata": {},
   "outputs": [],
   "source": [
    "# Create a matrix of stock return and standard deviation\n",
    "asset_risk_free = 0.05\n",
    "# Generating Trial Asset list\n",
    "assetlist = [\"US\", \"UK\", \"France\" ,\"Germany\" ,\"Japan\" ]\n",
    "\n",
    "# Generating Trial Asset Return Deviation Matrix\n",
    "\n",
    "asset_risk_return_dict={\"Return\":{\"US\":0.1355, \"UK\":0.1589,\"France\":0.1519,\"Germany\":0.1435,\"Japan\":0.1497},\n",
    "                        \"Deviation\":{\"US\":0.1535, \"UK\":0.2430,\"France\":0.2324,\"Germany\":0.2038,\"Japan\":0.2298},\n",
    "                        }\n",
    "\n",
    "# Generating Trial Asset Correlation Matrix\n",
    "asset_correlation_matrix_dict={\"US\":{\"US\":1,\"UK\":0.5003,\"France\":0.4398,\"Germany\":0.3681,\"Japan\":0.2663},\n",
    "                          \"UK\":{\"US\":0.5003,\"UK\":1,\"France\":0.5420,\"Germany\":0.4265,\"Japan\":0.3581},\n",
    "                          \"France\":{\"US\":0.4398,\"UK\":0.5420,\"France\":1,\"Germany\":0.6032,\"Japan\":0.3923},\n",
    "                          \"Germany\":{\"US\":0.3681,\"UK\":0.4265,\"France\":0.6032,\"Germany\":1,\"Japan\":0.3663},\n",
    "                          \"Japan\":{\"US\":0.2663,\"UK\":0.3581,\"France\":0.3923,\"Germany\":0.3663,\"Japan\":1}}\n",
    "\n",
    "# Saving Matrix into pd DataFrame\n",
    "asset_list_df = pd.DataFrame(assetlist)\n",
    "asset_risk_return= pd.DataFrame(asset_risk_return_dict)\n",
    "asset_correlation_matrix= pd.DataFrame(asset_correlation_matrix_dict)\n"
   ]
  },
  {
   "cell_type": "markdown",
   "id": "d5c66a6e",
   "metadata": {},
   "source": [
    "# Part 2: N Asset Optimization"
   ]
  },
  {
   "cell_type": "code",
   "execution_count": 44,
   "id": "a2b4ca7d",
   "metadata": {},
   "outputs": [],
   "source": [
    "# Finding Weightage of Portfolio on Global Minimum Variance\n",
    "\n",
    "# Step 1: Extract standard deviations\n",
    "std_devs = np.array([asset_risk_return_dict[\"Deviation\"][asset] for asset in assetlist])\n",
    "\n",
    "# Step 2: Create covariance matrix\n",
    "correlation_matrix = asset_correlation_matrix.loc[assetlist, assetlist].values  # ensure correct order\n",
    "cov_matrix = np.outer(std_devs, std_devs) * correlation_matrix\n",
    "\n",
    "# Step 3: Define Minimum Variance Function\n",
    "def global_min_var_portfolio(weights):\n",
    "    return weights.T @ cov_matrix @ weights # Matrix multiplication to find variance\n",
    "\n",
    "# Step 4: Define Constraints and Bounds\n",
    "number_of_assets = len(assetlist) # asset count\n",
    "init_guess = np.ones(number_of_assets)/number_of_assets # start with equal weightages\n",
    "bounds = [(0,1) for a in range(number_of_assets)] # Bound the Asset weightage\n",
    "constraints = {'type': 'eq', # Equality Constraint\n",
    "               'fun' : lambda w : np.sum(w)-1 # Must Equal to 0\n",
    "               # This constraint ensures that sum of all weight = 1\n",
    "               # or sum of weight - 1 = 0\n",
    "               }\n",
    "\n",
    "# Step 5: Solve for Min Variance Portfolio\n",
    "result = sciop.minimize(global_min_var_portfolio, init_guess, method='SLSQP',\n",
    "                bounds=bounds, constraints=constraints)\n",
    "\n",
    "# Step 6: Output Weightages\n",
    "min_variance_weights = result.x"
   ]
  },
  {
   "cell_type": "code",
   "execution_count": 45,
   "id": "f857eb8e",
   "metadata": {},
   "outputs": [
    {
     "name": "stdout",
     "output_type": "stream",
     "text": [
      "\n",
      "      MVE Portfolio Generated:\n",
      "      {'US': np.float64(0.6177970453959858), 'UK': np.float64(5.5366744353439095e-18), 'France': np.float64(2.500908352384497e-18), 'Germany': np.float64(0.20939435918063665), 'Japan': np.float64(0.17280859542337745)}\n",
      "      \n"
     ]
    }
   ],
   "source": [
    "# Finding Weightage of Portfolio on Global Minimum Variance\n",
    "\n",
    "# Step 1: Extract standard deviations\n",
    "std_devs = np.array([asset_risk_return_dict[\"Deviation\"][asset] for asset in assetlist])\n",
    "\n",
    "# Step 2: Create covariance matrix\n",
    "correlation_matrix = asset_correlation_matrix.loc[assetlist, assetlist].values  # ensure correct order\n",
    "cov_matrix = np.outer(std_devs, std_devs) * correlation_matrix\n",
    "\n",
    "# Step 3: Define Minimum Variance Function\n",
    "def global_min_var_portfolio(weights):\n",
    "    return weights.T @ cov_matrix @ weights # Matrix multiplication to find variance\n",
    "\n",
    "# Step 4: Define Constraints and Bounds\n",
    "number_of_assets = len(assetlist) # asset count\n",
    "init_guess = np.ones(number_of_assets)/number_of_assets # start with equal weightages\n",
    "bounds = [(0,1) for a in range(number_of_assets)] # Bound the Asset weightage\n",
    "constraints = {'type': 'eq', # Equality Constraint\n",
    "               'fun' : lambda w : np.sum(w)-1 # Must Equal to 0\n",
    "               # This constraint ensures that sum of all weight = 1\n",
    "               # or sum of weight - 1 = 0\n",
    "               }\n",
    "\n",
    "# Step 5: Solve for Min Variance Portfolio\n",
    "result = sciop.minimize(global_min_var_portfolio, init_guess, method='SLSQP',\n",
    "                bounds=bounds, constraints=constraints)\n",
    "\n",
    "# Step 6: Output Weightages\n",
    "min_variance_weights = result.x\n",
    "MVP_portfolio = dict(zip(assetlist, min_variance_weights))\n",
    "print(f'''\n",
    "      MVE Portfolio Generated:\n",
    "      {MVP_portfolio}\n",
    "      ''')"
   ]
  },
  {
   "cell_type": "code",
   "execution_count": 46,
   "id": "95fbbc7b",
   "metadata": {},
   "outputs": [
    {
     "name": "stdout",
     "output_type": "stream",
     "text": [
      "\n",
      "      MVE Portfolio Generated:\n",
      "      {'US': np.float64(0.5071417369229368), 'UK': np.float64(0.07470887972807165), 'France': np.float64(0.024715331355035768), 'Germany': np.float64(0.18943971928785783), 'Japan': np.float64(0.20399433270609799)}\n",
      "      \n"
     ]
    }
   ],
   "source": [
    "# Finding Weightage for Mean Variance Efficient Portfolio\n",
    "\n",
    "# Step 1: Extract Mean \n",
    "assets_mean = np.array([asset_risk_return_dict[\"Return\"][asset] for asset in assetlist])\n",
    "\n",
    "# Step 2: Define Sharpe Formula\n",
    "def negative_global_sharpe_portfolio(weights):\n",
    "    mean_p = weights.T @ assets_mean\n",
    "    variance = weights.T @ cov_matrix @ weights # Matrix multiplication to find variance\n",
    "    return -(mean_p - asset_risk_free)/np.sqrt(variance)\n",
    "\n",
    "# Step 3: Define Constraints and Bounds\n",
    "number_of_assets = len(assetlist) # asset count\n",
    "init_guess = np.ones(number_of_assets)/number_of_assets # start with equal weightages\n",
    "bounds = [(0,1) for a in range(number_of_assets)] # Bound the Asset weightage\n",
    "constraints = {'type': 'eq', # Equality Constraint\n",
    "               'fun' : lambda w : np.sum(w)-1 # Must Equal to 0\n",
    "               # This constraint ensures that sum of all weight = 1\n",
    "               # or sum of weight - 1 = 0\n",
    "               }\n",
    "\n",
    "# Step 4: Solve for Min Variance Portfolio\n",
    "result = sciop.minimize(negative_global_sharpe_portfolio, init_guess, method='SLSQP',\n",
    "                bounds=bounds, constraints=constraints)\n",
    "\n",
    "# Step 5: Output Weightages\n",
    "max_sharpe_weights = result.x\n",
    "\n",
    "MVE_portfolio = dict(zip(assetlist, max_sharpe_weights))\n",
    "print(f'''\n",
    "      MVE Portfolio Generated:\n",
    "      {MVE_portfolio}\n",
    "      ''')"
   ]
  },
  {
   "cell_type": "markdown",
   "id": "1916413e",
   "metadata": {},
   "source": [
    "### Obtaining Mean, Stdev, Sharpe and Covariance Matrix of MVE and MVP Portfolio "
   ]
  },
  {
   "cell_type": "code",
   "execution_count": 52,
   "id": "86310295",
   "metadata": {},
   "outputs": [],
   "source": [
    "# Find MVP's Mean, Stdev and Sharpe\n",
    "\n",
    "# Mean\n",
    "mvp_mean = min_variance_weights.T @ assets_mean\n",
    "mve_mean = max_sharpe_weights.T @ assets_mean\n",
    "\n",
    "# Variance\n",
    "mvp_variance = min_variance_weights.T @ cov_matrix @ min_variance_weights \n",
    "mve_variance = max_sharpe_weights.T @ cov_matrix @ max_sharpe_weights\n",
    "\n",
    "# Stdev\n",
    "mvp_stdev = np.sqrt(mvp_variance)\n",
    "mve_stdev = np.sqrt(mve_variance)\n",
    "\n",
    "# Sharpe\n",
    "mvp_sharpe = (mvp_mean-asset_risk_free )/ mvp_stdev\n",
    "mve_sharpe = (mve_mean-asset_risk_free )/ mve_stdev"
   ]
  },
  {
   "cell_type": "code",
   "execution_count": null,
   "id": "a0fd5daf",
   "metadata": {},
   "outputs": [],
   "source": [
    "# Find Covariance Matrix\n",
    "mvp_mve_cov = min_variance_weights.T @ cov_matrix @ max_sharpe_weights\n",
    "mvp_mve_cor = mvp_mve_cov / (mvp_stdev * mve_stdev)\n"
   ]
  }
 ],
 "metadata": {
  "kernelspec": {
   "display_name": "Python 3",
   "language": "python",
   "name": "python3"
  },
  "language_info": {
   "codemirror_mode": {
    "name": "ipython",
    "version": 3
   },
   "file_extension": ".py",
   "mimetype": "text/x-python",
   "name": "python",
   "nbconvert_exporter": "python",
   "pygments_lexer": "ipython3",
   "version": "3.12.5"
  }
 },
 "nbformat": 4,
 "nbformat_minor": 5
}
