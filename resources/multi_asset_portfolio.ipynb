{
 "cells": [
  {
   "cell_type": "markdown",
   "id": "3dd9b5be",
   "metadata": {},
   "source": [
    "---\n",
    "title: \"Portfolio Visualizer\"\n",
    "description: \"Portfolio linear optimization\"\n",
    "date: \"2025-07-15\"\n",
    "params:\n",
    "  input_text:\n",
    "    input: \"text\"\n",
    "    label: \"Enter text\"\n",
    "    value: \"default\"\n",
    "\n",
    "---\n"
   ]
  },
  {
   "cell_type": "markdown",
   "id": "31d07433",
   "metadata": {},
   "source": [
    "# Part 1: 2 Asset Optimization\n"
   ]
  },
  {
   "cell_type": "markdown",
   "id": "accd9135",
   "metadata": {},
   "source": [
    "## Importing Library\n"
   ]
  },
  {
   "cell_type": "code",
   "execution_count": 75,
   "id": "83f81632",
   "metadata": {},
   "outputs": [],
   "source": [
    "# Import Library\n",
    "import mercury as mr\n",
    "import yfinance as yf\n",
    "import pandas as pd\n",
    "import numpy as np\n",
    "import matplotlib.pyplot as plt\n",
    "import scipy.optimize as sciop\n",
    "from datetime import datetime\n",
    "import os\n",
    "\n",
    "import plotly.graph_objs as go"
   ]
  },
  {
   "cell_type": "code",
   "execution_count": 77,
   "id": "ec8fd398",
   "metadata": {},
   "outputs": [],
   "source": [
    "# User Defined Stock Tickers \n",
    "assetlist = [\"META\",\"BA\",\"GOOGL\",\"TSM\",\"AAPL\",\"VOO\"]"
   ]
  },
  {
   "cell_type": "code",
   "execution_count": 78,
   "id": "365044ab",
   "metadata": {},
   "outputs": [],
   "source": [
    "# Risk Free Rate\n",
    "asset_risk_free = 0.02"
   ]
  },
  {
   "cell_type": "markdown",
   "id": "cacb27da",
   "metadata": {},
   "source": [
    "## Data Prep and Extraction\n"
   ]
  },
  {
   "cell_type": "code",
   "execution_count": 79,
   "id": "9ae55624",
   "metadata": {},
   "outputs": [
    {
     "name": "stderr",
     "output_type": "stream",
     "text": [
      "/var/folders/yj/_sykjyks31j7t9pdm3jfl0v00000gn/T/ipykernel_42270/1010211020.py:4: FutureWarning:\n",
      "\n",
      "YF.download() has changed argument auto_adjust default to True\n",
      "\n",
      "[*********************100%***********************]  6 of 6 completed\n"
     ]
    }
   ],
   "source": [
    "# Get Stock Risk Return and Correlation\n",
    "\n",
    "# Using YFinance to obtain stock close Price\n",
    "stock_price = yf.download(tickers=assetlist,period = \"10y\", interval =\"1mo\")\n",
    "# Find stock return\n",
    "stock_return = stock_price[\"Close\"].pct_change().dropna()\n",
    "\n",
    "# Get mean and stdev of the stocks\n",
    "monthly_mean_return = stock_return.mean()\n",
    "monthly_stdev_return = np.std(stock_return,axis=0)\n",
    "\n",
    "# Annualize \n",
    "mean_return = monthly_mean_return * 12\n",
    "stdev_return = monthly_stdev_return * np.sqrt(12)\n",
    "\n",
    "# Merge into a table\n",
    "asset_risk_return_df = pd.DataFrame([mean_return, stdev_return],index=[\"Return\", \"Deviation\"]).T \n",
    "\n",
    "#Find Sharpe Ratio\n",
    "asset_risk_return_df[\"Sharpe\"] = (\n",
    "    asset_risk_return_df[\"Return\"] - asset_risk_free\n",
    ") / asset_risk_return_df[\"Deviation\"]\n",
    "\n",
    "# Get correlation between each stock\n",
    "asset_correlation_matrix_df= stock_return.corr()\n"
   ]
  },
  {
   "cell_type": "markdown",
   "id": "d5c66a6e",
   "metadata": {},
   "source": [
    "# Part 2: N Asset Optimization\n"
   ]
  },
  {
   "cell_type": "markdown",
   "id": "6b3eaa44",
   "metadata": {},
   "source": [
    "### GMV Portfolio\n"
   ]
  },
  {
   "cell_type": "code",
   "execution_count": 80,
   "id": "f857eb8e",
   "metadata": {},
   "outputs": [
    {
     "name": "stdout",
     "output_type": "stream",
     "text": [
      "\n",
      "      MVP Portfolio Generated:\n",
      "      {'AAPL': np.float64(0.0), 'BA': np.float64(0.0), 'GOOGL': np.float64(0.0), 'META': np.float64(0.0), 'TSM': np.float64(3.1414762460037715e-18), 'VOO': np.float64(1.0)}\n",
      "      \n"
     ]
    }
   ],
   "source": [
    "# Finding Weightage of Portfolio on Global Minimum Variance\n",
    "\n",
    "# Step 1: Get Deviations with correct order\n",
    "# Define order\n",
    "asset_order = asset_risk_return_df.index\n",
    "# Reindex correlation matrix rows and columns\n",
    "asset_correlation_matrix_df = asset_correlation_matrix_df.loc[asset_order, asset_order]\n",
    "# Get deviations\n",
    "deviations = asset_risk_return_df[\"Deviation\"].values\n",
    "\n",
    "# Step 2: Get Covariance, Element Wise\n",
    "cov_matrix = np.outer(deviations, deviations) * asset_correlation_matrix_df.values\n",
    "\n",
    "# Step 3: Define Minimum Variance Function\n",
    "def global_min_var_portfolio(weights):\n",
    "    return weights.T @ cov_matrix @ weights # Matrix multiplication to find variance\n",
    "\n",
    "# Step 4: Define Constraints and Bounds\n",
    "number_of_assets = len(assetlist) # asset count\n",
    "init_guess = np.ones(number_of_assets)/number_of_assets # start with equal weightages\n",
    "bounds = [(0,1) for a in range(number_of_assets)] # Bound the Asset weightage\n",
    "constraints = {'type': 'eq', # Equality Constraint\n",
    "               'fun' : lambda w : np.sum(w)-1 # Must Equal to 0\n",
    "               # This constraint ensures that sum of all weight = 1\n",
    "               # or sum of weight - 1 = 0\n",
    "               }\n",
    "\n",
    "# Step 5: Solve for Efficient Portfolio\n",
    "gmv_result = sciop.minimize(global_min_var_portfolio, init_guess, method='SLSQP',\n",
    "                bounds=bounds, constraints=constraints)\n",
    "\n",
    "# Step 6: Output Weightages\n",
    "min_variance_weights = gmv_result.x\n",
    "MVP_portfolio = dict(zip(asset_order, min_variance_weights))\n",
    "print(f'''\n",
    "      MVP Portfolio Generated:\n",
    "      {MVP_portfolio}\n",
    "      ''')"
   ]
  },
  {
   "cell_type": "markdown",
   "id": "0fc4206b",
   "metadata": {},
   "source": [
    "## MVE Portfolio\n"
   ]
  },
  {
   "cell_type": "code",
   "execution_count": 81,
   "id": "95fbbc7b",
   "metadata": {},
   "outputs": [
    {
     "name": "stdout",
     "output_type": "stream",
     "text": [
      "\n",
      "      MVE Portfolio Generated:\n",
      "      {'META': np.float64(0.4476031663307754), 'BA': np.float64(0.0), 'GOOGL': np.float64(0.15707096343729807), 'TSM': np.float64(0.30868859039873897), 'AAPL': np.float64(0.08663727983318768), 'VOO': np.float64(1.4799359654427136e-17)}\n",
      "      \n"
     ]
    }
   ],
   "source": [
    "# Finding Weightage for Mean Variance Efficient Portfolio\n",
    "\n",
    "# Step 1: Extract Mean \n",
    "assets_mean = np.array([asset_risk_return_df[\"Return\"][asset] for asset in assetlist])\n",
    "\n",
    "# Step 2: Define Sharpe Formula\n",
    "def negative_global_sharpe_portfolio(weights):\n",
    "    mean_p = weights.T @ assets_mean\n",
    "    variance = weights.T @ cov_matrix @ weights # Matrix multiplication to find variance\n",
    "    return -(mean_p - asset_risk_free)/np.sqrt(variance)\n",
    "\n",
    "# Step 3: Define Constraints and Bounds\n",
    "number_of_assets = len(assetlist) # asset count\n",
    "init_guess = np.ones(number_of_assets)/number_of_assets # start with equal weightages\n",
    "bounds = [(0,1) for a in range(number_of_assets)] # Bound the Asset weightage\n",
    "constraints = {'type': 'eq', # Equality Constraint\n",
    "               'fun' : lambda w : np.sum(w)-1 # Must Equal to 0\n",
    "               # This constraint ensures that sum of all weight = 1\n",
    "               # or sum of weight - 1 = 0\n",
    "               }\n",
    "\n",
    "# Step 4: Solve for Efficient Frontier's Portfolio\n",
    "mve_result = sciop.minimize(negative_global_sharpe_portfolio, init_guess, method='SLSQP',\n",
    "                bounds=bounds, constraints=constraints)\n",
    "\n",
    "# Step 5: Output Weightages\n",
    "max_sharpe_weights = mve_result.x\n",
    "MVE_portfolio = dict(zip(assetlist, max_sharpe_weights))\n",
    "print(f'''\n",
    "      MVE Portfolio Generated:\n",
    "      {MVE_portfolio}\n",
    "      ''')\n"
   ]
  },
  {
   "cell_type": "markdown",
   "id": "1916413e",
   "metadata": {},
   "source": [
    "### Obtaining Mean, Stdev, Sharpe and Covariance Matrix of MVE and GMV Portfolio\n"
   ]
  },
  {
   "cell_type": "code",
   "execution_count": 82,
   "id": "86310295",
   "metadata": {},
   "outputs": [],
   "source": [
    "# Find MVP's Mean, Stdev and Sharpe\n",
    "\n",
    "# Mean\n",
    "mvp_mean = min_variance_weights.T @ assets_mean\n",
    "mve_mean = max_sharpe_weights.T @ assets_mean\n",
    "\n",
    "# Variance\n",
    "mvp_variance = min_variance_weights.T @ cov_matrix @ min_variance_weights \n",
    "mve_variance = max_sharpe_weights.T @ cov_matrix @ max_sharpe_weights\n",
    "\n",
    "# Stdev\n",
    "mvp_stdev = np.sqrt(mvp_variance)\n",
    "mve_stdev = np.sqrt(mve_variance)\n",
    "\n",
    "# Sharpe\n",
    "mvp_sharpe = (mvp_mean-asset_risk_free )/ mvp_stdev\n",
    "mve_sharpe = (mve_mean-asset_risk_free )/ mve_stdev"
   ]
  },
  {
   "cell_type": "markdown",
   "id": "8aad1f44",
   "metadata": {},
   "source": [
    "### Obtaining Covariance and Correlation of MVE and GMV Portfolio\n"
   ]
  },
  {
   "cell_type": "code",
   "execution_count": 83,
   "id": "a0fd5daf",
   "metadata": {},
   "outputs": [],
   "source": [
    "# Find Covariance and Correlation\n",
    "mvp_mve_cov = min_variance_weights.T @ cov_matrix @ max_sharpe_weights\n",
    "mvp_mve_cor = mvp_mve_cov / (mvp_stdev * mve_stdev)"
   ]
  },
  {
   "cell_type": "markdown",
   "id": "13f68b61",
   "metadata": {},
   "source": [
    "### Generating Combination of Assets\n"
   ]
  },
  {
   "cell_type": "code",
   "execution_count": 84,
   "id": "718ea430",
   "metadata": {},
   "outputs": [],
   "source": [
    "# Create a combination of weightages\n",
    "w_mve = np.arange(0, 3, 0.02)\n",
    "w_mvp = 1 - w_mve\n",
    "\n",
    "# Create a range of return based on weightage\n",
    "portfolio_return_list=[]\n",
    "for index,row in enumerate(w_mve):\n",
    "    mve_return= row * mve_mean\n",
    "    mvp_return= w_mvp[index] * mvp_mean\n",
    "    weighted_portfolio_return= mve_return + mvp_return\n",
    "    portfolio_return_list.append(weighted_portfolio_return)\n",
    "\n",
    "# Create variance for each weight\n",
    "portfolio_variance_list=[]\n",
    "for index, row in enumerate(w_mve):\n",
    "    mve_var_indiv= (row)**2 * mve_variance\n",
    "    mvp_var_indiv= (w_mvp[index])**2 * mvp_variance\n",
    "    mvp_mve_var= 2*(row)*(w_mvp[index])*mvp_stdev*mve_stdev * mvp_mve_cor\n",
    "    weighted_risk=mve_var_indiv + mvp_var_indiv + mvp_mve_var\n",
    "    portfolio_variance_list.append(weighted_risk)\n",
    "\n",
    "# Calculate Standard Deviation for each weight\n",
    "portfolio_stdev_list=[]\n",
    "for var in portfolio_variance_list:\n",
    "    portfolio_stdev_list.append((np.sqrt(var)))\n",
    "\n",
    "portfolio_sharpe_list=[]\n",
    "for idx, mean in enumerate(portfolio_return_list):\n",
    "    sharpe= (mean-asset_risk_free)/portfolio_stdev_list[idx]\n",
    "    portfolio_sharpe_list.append(sharpe)\n",
    "\n",
    "# Merge all data into df\n",
    "efficient_frontier_matrix=pd.DataFrame({\n",
    "    \"w(MVE)\":w_mve,\n",
    "    \"w(MVP)\":w_mvp,\n",
    "    \"Mean Return\":portfolio_return_list,\n",
    "    \"Variance\":portfolio_variance_list,\n",
    "    \"Standard Deviation\": portfolio_stdev_list,\n",
    "    \"Sharpe Ratio\": portfolio_sharpe_list\n",
    "})\n",
    "\n",
    "# Add weightage dicts to efficient frontier matrix\n",
    "weightage_list = []\n",
    "for idx in range(len(efficient_frontier_matrix)):\n",
    "    mve_w = efficient_frontier_matrix.iloc[idx]['w(MVE)']\n",
    "    mvp_w = efficient_frontier_matrix.iloc[idx]['w(MVP)']\n",
    "\n",
    "    combined_weights={}\n",
    "    for asset in assetlist:  # assuming assetlist matches MVE/MVP keys\n",
    "        mve_asset_weight = MVE_portfolio.get(asset, 0)\n",
    "        mvp_asset_weight = MVP_portfolio.get(asset, 0)\n",
    "        combined_weight = mve_w * mve_asset_weight + mvp_w * mvp_asset_weight\n",
    "        combined_weights[asset] = round(combined_weight, 4)\n",
    "\n",
    "    weightage_list.append(combined_weights)\n",
    "\n",
    "efficient_frontier_matrix[\"Weightages\"] = weightage_list"
   ]
  },
  {
   "cell_type": "markdown",
   "id": "602e379c",
   "metadata": {},
   "source": [
    "# Plotting\n"
   ]
  },
  {
   "cell_type": "markdown",
   "id": "03c80f08",
   "metadata": {},
   "source": [
    "## Mean and Stdev of Each Asset\n"
   ]
  },
  {
   "cell_type": "code",
   "execution_count": 85,
   "id": "66c3bbaa",
   "metadata": {},
   "outputs": [],
   "source": [
    "# Extract mean and stdev for each asset\n",
    "asset_names = list(asset_risk_return_df[\"Return\"].keys())\n",
    "asset_means = [asset_risk_return_df[\"Return\"][a] for a in asset_names]\n",
    "asset_stdevs = [asset_risk_return_df[\"Deviation\"][a] for a in asset_names]"
   ]
  },
  {
   "cell_type": "code",
   "execution_count": 86,
   "id": "848d00ef",
   "metadata": {},
   "outputs": [
    {
     "data": {
      "application/vnd.plotly.v1+json": {
       "config": {
        "plotlyServerURL": "https://plot.ly"
       },
       "data": [
        {
         "customdata": [
          "META: 0.00%<br>BA: 0.00%<br>GOOGL: 0.00%<br>TSM: 0.00%<br>AAPL: 0.00%<br>VOO: 100.00%",
          "META: 0.90%<br>BA: 0.00%<br>GOOGL: 0.31%<br>TSM: 0.62%<br>AAPL: 0.17%<br>VOO: 98.00%",
          "META: 1.79%<br>BA: 0.00%<br>GOOGL: 0.63%<br>TSM: 1.23%<br>AAPL: 0.35%<br>VOO: 96.00%",
          "META: 2.69%<br>BA: 0.00%<br>GOOGL: 0.94%<br>TSM: 1.85%<br>AAPL: 0.52%<br>VOO: 94.00%",
          "META: 3.58%<br>BA: 0.00%<br>GOOGL: 1.26%<br>TSM: 2.47%<br>AAPL: 0.69%<br>VOO: 92.00%",
          "META: 4.48%<br>BA: 0.00%<br>GOOGL: 1.57%<br>TSM: 3.09%<br>AAPL: 0.87%<br>VOO: 90.00%",
          "META: 5.37%<br>BA: 0.00%<br>GOOGL: 1.88%<br>TSM: 3.70%<br>AAPL: 1.04%<br>VOO: 88.00%",
          "META: 6.27%<br>BA: 0.00%<br>GOOGL: 2.20%<br>TSM: 4.32%<br>AAPL: 1.21%<br>VOO: 86.00%",
          "META: 7.16%<br>BA: 0.00%<br>GOOGL: 2.51%<br>TSM: 4.94%<br>AAPL: 1.39%<br>VOO: 84.00%",
          "META: 8.06%<br>BA: 0.00%<br>GOOGL: 2.83%<br>TSM: 5.56%<br>AAPL: 1.56%<br>VOO: 82.00%",
          "META: 8.95%<br>BA: 0.00%<br>GOOGL: 3.14%<br>TSM: 6.17%<br>AAPL: 1.73%<br>VOO: 80.00%",
          "META: 9.85%<br>BA: 0.00%<br>GOOGL: 3.46%<br>TSM: 6.79%<br>AAPL: 1.91%<br>VOO: 78.00%",
          "META: 10.74%<br>BA: 0.00%<br>GOOGL: 3.77%<br>TSM: 7.41%<br>AAPL: 2.08%<br>VOO: 76.00%",
          "META: 11.64%<br>BA: 0.00%<br>GOOGL: 4.08%<br>TSM: 8.03%<br>AAPL: 2.25%<br>VOO: 74.00%",
          "META: 12.53%<br>BA: 0.00%<br>GOOGL: 4.40%<br>TSM: 8.64%<br>AAPL: 2.43%<br>VOO: 72.00%",
          "META: 13.43%<br>BA: 0.00%<br>GOOGL: 4.71%<br>TSM: 9.26%<br>AAPL: 2.60%<br>VOO: 70.00%",
          "META: 14.32%<br>BA: 0.00%<br>GOOGL: 5.03%<br>TSM: 9.88%<br>AAPL: 2.77%<br>VOO: 68.00%",
          "META: 15.22%<br>BA: 0.00%<br>GOOGL: 5.34%<br>TSM: 10.50%<br>AAPL: 2.95%<br>VOO: 66.00%",
          "META: 16.11%<br>BA: 0.00%<br>GOOGL: 5.65%<br>TSM: 11.11%<br>AAPL: 3.12%<br>VOO: 64.00%",
          "META: 17.01%<br>BA: 0.00%<br>GOOGL: 5.97%<br>TSM: 11.73%<br>AAPL: 3.29%<br>VOO: 62.00%",
          "META: 17.90%<br>BA: 0.00%<br>GOOGL: 6.28%<br>TSM: 12.35%<br>AAPL: 3.47%<br>VOO: 60.00%",
          "META: 18.80%<br>BA: 0.00%<br>GOOGL: 6.60%<br>TSM: 12.96%<br>AAPL: 3.64%<br>VOO: 58.00%",
          "META: 19.69%<br>BA: 0.00%<br>GOOGL: 6.91%<br>TSM: 13.58%<br>AAPL: 3.81%<br>VOO: 56.00%",
          "META: 20.59%<br>BA: 0.00%<br>GOOGL: 7.23%<br>TSM: 14.20%<br>AAPL: 3.99%<br>VOO: 54.00%",
          "META: 21.48%<br>BA: 0.00%<br>GOOGL: 7.54%<br>TSM: 14.82%<br>AAPL: 4.16%<br>VOO: 52.00%",
          "META: 22.38%<br>BA: 0.00%<br>GOOGL: 7.85%<br>TSM: 15.43%<br>AAPL: 4.33%<br>VOO: 50.00%",
          "META: 23.28%<br>BA: 0.00%<br>GOOGL: 8.17%<br>TSM: 16.05%<br>AAPL: 4.51%<br>VOO: 48.00%",
          "META: 24.17%<br>BA: 0.00%<br>GOOGL: 8.48%<br>TSM: 16.67%<br>AAPL: 4.68%<br>VOO: 46.00%",
          "META: 25.07%<br>BA: 0.00%<br>GOOGL: 8.80%<br>TSM: 17.29%<br>AAPL: 4.85%<br>VOO: 44.00%",
          "META: 25.96%<br>BA: 0.00%<br>GOOGL: 9.11%<br>TSM: 17.90%<br>AAPL: 5.02%<br>VOO: 42.00%",
          "META: 26.86%<br>BA: 0.00%<br>GOOGL: 9.42%<br>TSM: 18.52%<br>AAPL: 5.20%<br>VOO: 40.00%",
          "META: 27.75%<br>BA: 0.00%<br>GOOGL: 9.74%<br>TSM: 19.14%<br>AAPL: 5.37%<br>VOO: 38.00%",
          "META: 28.65%<br>BA: 0.00%<br>GOOGL: 10.05%<br>TSM: 19.76%<br>AAPL: 5.54%<br>VOO: 36.00%",
          "META: 29.54%<br>BA: 0.00%<br>GOOGL: 10.37%<br>TSM: 20.37%<br>AAPL: 5.72%<br>VOO: 34.00%",
          "META: 30.44%<br>BA: 0.00%<br>GOOGL: 10.68%<br>TSM: 20.99%<br>AAPL: 5.89%<br>VOO: 32.00%",
          "META: 31.33%<br>BA: 0.00%<br>GOOGL: 10.99%<br>TSM: 21.61%<br>AAPL: 6.06%<br>VOO: 30.00%",
          "META: 32.23%<br>BA: 0.00%<br>GOOGL: 11.31%<br>TSM: 22.23%<br>AAPL: 6.24%<br>VOO: 28.00%",
          "META: 33.12%<br>BA: 0.00%<br>GOOGL: 11.62%<br>TSM: 22.84%<br>AAPL: 6.41%<br>VOO: 26.00%",
          "META: 34.02%<br>BA: 0.00%<br>GOOGL: 11.94%<br>TSM: 23.46%<br>AAPL: 6.58%<br>VOO: 24.00%",
          "META: 34.91%<br>BA: 0.00%<br>GOOGL: 12.25%<br>TSM: 24.08%<br>AAPL: 6.76%<br>VOO: 22.00%",
          "META: 35.81%<br>BA: 0.00%<br>GOOGL: 12.57%<br>TSM: 24.70%<br>AAPL: 6.93%<br>VOO: 20.00%",
          "META: 36.70%<br>BA: 0.00%<br>GOOGL: 12.88%<br>TSM: 25.31%<br>AAPL: 7.10%<br>VOO: 18.00%",
          "META: 37.60%<br>BA: 0.00%<br>GOOGL: 13.19%<br>TSM: 25.93%<br>AAPL: 7.28%<br>VOO: 16.00%",
          "META: 38.49%<br>BA: 0.00%<br>GOOGL: 13.51%<br>TSM: 26.55%<br>AAPL: 7.45%<br>VOO: 14.00%",
          "META: 39.39%<br>BA: 0.00%<br>GOOGL: 13.82%<br>TSM: 27.16%<br>AAPL: 7.62%<br>VOO: 12.00%",
          "META: 40.28%<br>BA: 0.00%<br>GOOGL: 14.14%<br>TSM: 27.78%<br>AAPL: 7.80%<br>VOO: 10.00%",
          "META: 41.18%<br>BA: 0.00%<br>GOOGL: 14.45%<br>TSM: 28.40%<br>AAPL: 7.97%<br>VOO: 8.00%",
          "META: 42.07%<br>BA: 0.00%<br>GOOGL: 14.76%<br>TSM: 29.02%<br>AAPL: 8.14%<br>VOO: 6.00%",
          "META: 42.97%<br>BA: 0.00%<br>GOOGL: 15.08%<br>TSM: 29.63%<br>AAPL: 8.32%<br>VOO: 4.00%",
          "META: 43.87%<br>BA: 0.00%<br>GOOGL: 15.39%<br>TSM: 30.25%<br>AAPL: 8.49%<br>VOO: 2.00%",
          "META: 44.76%<br>BA: 0.00%<br>GOOGL: 15.71%<br>TSM: 30.87%<br>AAPL: 8.66%<br>VOO: 0.00%",
          "META: 45.66%<br>BA: 0.00%<br>GOOGL: 16.02%<br>TSM: 31.49%<br>AAPL: 8.84%<br>VOO: -2.00%",
          "META: 46.55%<br>BA: 0.00%<br>GOOGL: 16.34%<br>TSM: 32.10%<br>AAPL: 9.01%<br>VOO: -4.00%",
          "META: 47.45%<br>BA: 0.00%<br>GOOGL: 16.65%<br>TSM: 32.72%<br>AAPL: 9.18%<br>VOO: -6.00%",
          "META: 48.34%<br>BA: 0.00%<br>GOOGL: 16.96%<br>TSM: 33.34%<br>AAPL: 9.36%<br>VOO: -8.00%",
          "META: 49.24%<br>BA: 0.00%<br>GOOGL: 17.28%<br>TSM: 33.96%<br>AAPL: 9.53%<br>VOO: -10.00%",
          "META: 50.13%<br>BA: 0.00%<br>GOOGL: 17.59%<br>TSM: 34.57%<br>AAPL: 9.70%<br>VOO: -12.00%",
          "META: 51.03%<br>BA: 0.00%<br>GOOGL: 17.91%<br>TSM: 35.19%<br>AAPL: 9.88%<br>VOO: -14.00%",
          "META: 51.92%<br>BA: 0.00%<br>GOOGL: 18.22%<br>TSM: 35.81%<br>AAPL: 10.05%<br>VOO: -16.00%",
          "META: 52.82%<br>BA: 0.00%<br>GOOGL: 18.53%<br>TSM: 36.43%<br>AAPL: 10.22%<br>VOO: -18.00%",
          "META: 53.71%<br>BA: 0.00%<br>GOOGL: 18.85%<br>TSM: 37.04%<br>AAPL: 10.40%<br>VOO: -20.00%",
          "META: 54.61%<br>BA: 0.00%<br>GOOGL: 19.16%<br>TSM: 37.66%<br>AAPL: 10.57%<br>VOO: -22.00%",
          "META: 55.50%<br>BA: 0.00%<br>GOOGL: 19.48%<br>TSM: 38.28%<br>AAPL: 10.74%<br>VOO: -24.00%",
          "META: 56.40%<br>BA: 0.00%<br>GOOGL: 19.79%<br>TSM: 38.89%<br>AAPL: 10.92%<br>VOO: -26.00%",
          "META: 57.29%<br>BA: 0.00%<br>GOOGL: 20.11%<br>TSM: 39.51%<br>AAPL: 11.09%<br>VOO: -28.00%",
          "META: 58.19%<br>BA: 0.00%<br>GOOGL: 20.42%<br>TSM: 40.13%<br>AAPL: 11.26%<br>VOO: -30.00%",
          "META: 59.08%<br>BA: 0.00%<br>GOOGL: 20.73%<br>TSM: 40.75%<br>AAPL: 11.44%<br>VOO: -32.00%",
          "META: 59.98%<br>BA: 0.00%<br>GOOGL: 21.05%<br>TSM: 41.36%<br>AAPL: 11.61%<br>VOO: -34.00%",
          "META: 60.87%<br>BA: 0.00%<br>GOOGL: 21.36%<br>TSM: 41.98%<br>AAPL: 11.78%<br>VOO: -36.00%",
          "META: 61.77%<br>BA: 0.00%<br>GOOGL: 21.68%<br>TSM: 42.60%<br>AAPL: 11.96%<br>VOO: -38.00%",
          "META: 62.66%<br>BA: 0.00%<br>GOOGL: 21.99%<br>TSM: 43.22%<br>AAPL: 12.13%<br>VOO: -40.00%",
          "META: 63.56%<br>BA: 0.00%<br>GOOGL: 22.30%<br>TSM: 43.83%<br>AAPL: 12.30%<br>VOO: -42.00%",
          "META: 64.45%<br>BA: 0.00%<br>GOOGL: 22.62%<br>TSM: 44.45%<br>AAPL: 12.48%<br>VOO: -44.00%",
          "META: 65.35%<br>BA: 0.00%<br>GOOGL: 22.93%<br>TSM: 45.07%<br>AAPL: 12.65%<br>VOO: -46.00%",
          "META: 66.25%<br>BA: 0.00%<br>GOOGL: 23.25%<br>TSM: 45.69%<br>AAPL: 12.82%<br>VOO: -48.00%",
          "META: 67.14%<br>BA: 0.00%<br>GOOGL: 23.56%<br>TSM: 46.30%<br>AAPL: 13.00%<br>VOO: -50.00%",
          "META: 68.04%<br>BA: 0.00%<br>GOOGL: 23.87%<br>TSM: 46.92%<br>AAPL: 13.17%<br>VOO: -52.00%",
          "META: 68.93%<br>BA: 0.00%<br>GOOGL: 24.19%<br>TSM: 47.54%<br>AAPL: 13.34%<br>VOO: -54.00%",
          "META: 69.83%<br>BA: 0.00%<br>GOOGL: 24.50%<br>TSM: 48.16%<br>AAPL: 13.52%<br>VOO: -56.00%",
          "META: 70.72%<br>BA: 0.00%<br>GOOGL: 24.82%<br>TSM: 48.77%<br>AAPL: 13.69%<br>VOO: -58.00%",
          "META: 71.62%<br>BA: 0.00%<br>GOOGL: 25.13%<br>TSM: 49.39%<br>AAPL: 13.86%<br>VOO: -60.00%",
          "META: 72.51%<br>BA: 0.00%<br>GOOGL: 25.45%<br>TSM: 50.01%<br>AAPL: 14.04%<br>VOO: -62.00%",
          "META: 73.41%<br>BA: 0.00%<br>GOOGL: 25.76%<br>TSM: 50.62%<br>AAPL: 14.21%<br>VOO: -64.00%",
          "META: 74.30%<br>BA: 0.00%<br>GOOGL: 26.07%<br>TSM: 51.24%<br>AAPL: 14.38%<br>VOO: -66.00%",
          "META: 75.20%<br>BA: 0.00%<br>GOOGL: 26.39%<br>TSM: 51.86%<br>AAPL: 14.56%<br>VOO: -68.00%",
          "META: 76.09%<br>BA: 0.00%<br>GOOGL: 26.70%<br>TSM: 52.48%<br>AAPL: 14.73%<br>VOO: -70.00%",
          "META: 76.99%<br>BA: 0.00%<br>GOOGL: 27.02%<br>TSM: 53.09%<br>AAPL: 14.90%<br>VOO: -72.00%",
          "META: 77.88%<br>BA: 0.00%<br>GOOGL: 27.33%<br>TSM: 53.71%<br>AAPL: 15.07%<br>VOO: -74.00%",
          "META: 78.78%<br>BA: 0.00%<br>GOOGL: 27.64%<br>TSM: 54.33%<br>AAPL: 15.25%<br>VOO: -76.00%",
          "META: 79.67%<br>BA: 0.00%<br>GOOGL: 27.96%<br>TSM: 54.95%<br>AAPL: 15.42%<br>VOO: -78.00%",
          "META: 80.57%<br>BA: 0.00%<br>GOOGL: 28.27%<br>TSM: 55.56%<br>AAPL: 15.59%<br>VOO: -80.00%",
          "META: 81.46%<br>BA: 0.00%<br>GOOGL: 28.59%<br>TSM: 56.18%<br>AAPL: 15.77%<br>VOO: -82.00%",
          "META: 82.36%<br>BA: 0.00%<br>GOOGL: 28.90%<br>TSM: 56.80%<br>AAPL: 15.94%<br>VOO: -84.00%",
          "META: 83.25%<br>BA: 0.00%<br>GOOGL: 29.22%<br>TSM: 57.42%<br>AAPL: 16.11%<br>VOO: -86.00%",
          "META: 84.15%<br>BA: 0.00%<br>GOOGL: 29.53%<br>TSM: 58.03%<br>AAPL: 16.29%<br>VOO: -88.00%",
          "META: 85.04%<br>BA: 0.00%<br>GOOGL: 29.84%<br>TSM: 58.65%<br>AAPL: 16.46%<br>VOO: -90.00%",
          "META: 85.94%<br>BA: 0.00%<br>GOOGL: 30.16%<br>TSM: 59.27%<br>AAPL: 16.63%<br>VOO: -92.00%",
          "META: 86.84%<br>BA: 0.00%<br>GOOGL: 30.47%<br>TSM: 59.89%<br>AAPL: 16.81%<br>VOO: -94.00%",
          "META: 87.73%<br>BA: 0.00%<br>GOOGL: 30.79%<br>TSM: 60.50%<br>AAPL: 16.98%<br>VOO: -96.00%",
          "META: 88.63%<br>BA: 0.00%<br>GOOGL: 31.10%<br>TSM: 61.12%<br>AAPL: 17.15%<br>VOO: -98.00%",
          "META: 89.52%<br>BA: 0.00%<br>GOOGL: 31.41%<br>TSM: 61.74%<br>AAPL: 17.33%<br>VOO: -100.00%",
          "META: 90.42%<br>BA: 0.00%<br>GOOGL: 31.73%<br>TSM: 62.36%<br>AAPL: 17.50%<br>VOO: -102.00%",
          "META: 91.31%<br>BA: 0.00%<br>GOOGL: 32.04%<br>TSM: 62.97%<br>AAPL: 17.67%<br>VOO: -104.00%",
          "META: 92.21%<br>BA: 0.00%<br>GOOGL: 32.36%<br>TSM: 63.59%<br>AAPL: 17.85%<br>VOO: -106.00%",
          "META: 93.10%<br>BA: 0.00%<br>GOOGL: 32.67%<br>TSM: 64.21%<br>AAPL: 18.02%<br>VOO: -108.00%",
          "META: 94.00%<br>BA: 0.00%<br>GOOGL: 32.98%<br>TSM: 64.82%<br>AAPL: 18.19%<br>VOO: -110.00%",
          "META: 94.89%<br>BA: 0.00%<br>GOOGL: 33.30%<br>TSM: 65.44%<br>AAPL: 18.37%<br>VOO: -112.00%",
          "META: 95.79%<br>BA: 0.00%<br>GOOGL: 33.61%<br>TSM: 66.06%<br>AAPL: 18.54%<br>VOO: -114.00%",
          "META: 96.68%<br>BA: 0.00%<br>GOOGL: 33.93%<br>TSM: 66.68%<br>AAPL: 18.71%<br>VOO: -116.00%",
          "META: 97.58%<br>BA: 0.00%<br>GOOGL: 34.24%<br>TSM: 67.29%<br>AAPL: 18.89%<br>VOO: -118.00%",
          "META: 98.47%<br>BA: 0.00%<br>GOOGL: 34.56%<br>TSM: 67.91%<br>AAPL: 19.06%<br>VOO: -120.00%",
          "META: 99.37%<br>BA: 0.00%<br>GOOGL: 34.87%<br>TSM: 68.53%<br>AAPL: 19.23%<br>VOO: -122.00%",
          "META: 100.26%<br>BA: 0.00%<br>GOOGL: 35.18%<br>TSM: 69.15%<br>AAPL: 19.41%<br>VOO: -124.00%",
          "META: 101.16%<br>BA: 0.00%<br>GOOGL: 35.50%<br>TSM: 69.76%<br>AAPL: 19.58%<br>VOO: -126.00%",
          "META: 102.05%<br>BA: 0.00%<br>GOOGL: 35.81%<br>TSM: 70.38%<br>AAPL: 19.75%<br>VOO: -128.00%",
          "META: 102.95%<br>BA: 0.00%<br>GOOGL: 36.13%<br>TSM: 71.00%<br>AAPL: 19.93%<br>VOO: -130.00%",
          "META: 103.84%<br>BA: 0.00%<br>GOOGL: 36.44%<br>TSM: 71.62%<br>AAPL: 20.10%<br>VOO: -132.00%",
          "META: 104.74%<br>BA: 0.00%<br>GOOGL: 36.75%<br>TSM: 72.23%<br>AAPL: 20.27%<br>VOO: -134.00%",
          "META: 105.63%<br>BA: 0.00%<br>GOOGL: 37.07%<br>TSM: 72.85%<br>AAPL: 20.45%<br>VOO: -136.00%",
          "META: 106.53%<br>BA: 0.00%<br>GOOGL: 37.38%<br>TSM: 73.47%<br>AAPL: 20.62%<br>VOO: -138.00%",
          "META: 107.42%<br>BA: 0.00%<br>GOOGL: 37.70%<br>TSM: 74.09%<br>AAPL: 20.79%<br>VOO: -140.00%",
          "META: 108.32%<br>BA: 0.00%<br>GOOGL: 38.01%<br>TSM: 74.70%<br>AAPL: 20.97%<br>VOO: -142.00%",
          "META: 109.22%<br>BA: 0.00%<br>GOOGL: 38.33%<br>TSM: 75.32%<br>AAPL: 21.14%<br>VOO: -144.00%",
          "META: 110.11%<br>BA: 0.00%<br>GOOGL: 38.64%<br>TSM: 75.94%<br>AAPL: 21.31%<br>VOO: -146.00%",
          "META: 111.01%<br>BA: 0.00%<br>GOOGL: 38.95%<br>TSM: 76.55%<br>AAPL: 21.49%<br>VOO: -148.00%",
          "META: 111.90%<br>BA: 0.00%<br>GOOGL: 39.27%<br>TSM: 77.17%<br>AAPL: 21.66%<br>VOO: -150.00%",
          "META: 112.80%<br>BA: 0.00%<br>GOOGL: 39.58%<br>TSM: 77.79%<br>AAPL: 21.83%<br>VOO: -152.00%",
          "META: 113.69%<br>BA: 0.00%<br>GOOGL: 39.90%<br>TSM: 78.41%<br>AAPL: 22.01%<br>VOO: -154.00%",
          "META: 114.59%<br>BA: 0.00%<br>GOOGL: 40.21%<br>TSM: 79.02%<br>AAPL: 22.18%<br>VOO: -156.00%",
          "META: 115.48%<br>BA: 0.00%<br>GOOGL: 40.52%<br>TSM: 79.64%<br>AAPL: 22.35%<br>VOO: -158.00%",
          "META: 116.38%<br>BA: 0.00%<br>GOOGL: 40.84%<br>TSM: 80.26%<br>AAPL: 22.53%<br>VOO: -160.00%",
          "META: 117.27%<br>BA: 0.00%<br>GOOGL: 41.15%<br>TSM: 80.88%<br>AAPL: 22.70%<br>VOO: -162.00%",
          "META: 118.17%<br>BA: 0.00%<br>GOOGL: 41.47%<br>TSM: 81.49%<br>AAPL: 22.87%<br>VOO: -164.00%",
          "META: 119.06%<br>BA: 0.00%<br>GOOGL: 41.78%<br>TSM: 82.11%<br>AAPL: 23.05%<br>VOO: -166.00%",
          "META: 119.96%<br>BA: 0.00%<br>GOOGL: 42.10%<br>TSM: 82.73%<br>AAPL: 23.22%<br>VOO: -168.00%",
          "META: 120.85%<br>BA: 0.00%<br>GOOGL: 42.41%<br>TSM: 83.35%<br>AAPL: 23.39%<br>VOO: -170.00%",
          "META: 121.75%<br>BA: 0.00%<br>GOOGL: 42.72%<br>TSM: 83.96%<br>AAPL: 23.57%<br>VOO: -172.00%",
          "META: 122.64%<br>BA: 0.00%<br>GOOGL: 43.04%<br>TSM: 84.58%<br>AAPL: 23.74%<br>VOO: -174.00%",
          "META: 123.54%<br>BA: 0.00%<br>GOOGL: 43.35%<br>TSM: 85.20%<br>AAPL: 23.91%<br>VOO: -176.00%",
          "META: 124.43%<br>BA: 0.00%<br>GOOGL: 43.67%<br>TSM: 85.82%<br>AAPL: 24.09%<br>VOO: -178.00%",
          "META: 125.33%<br>BA: 0.00%<br>GOOGL: 43.98%<br>TSM: 86.43%<br>AAPL: 24.26%<br>VOO: -180.00%",
          "META: 126.22%<br>BA: 0.00%<br>GOOGL: 44.29%<br>TSM: 87.05%<br>AAPL: 24.43%<br>VOO: -182.00%",
          "META: 127.12%<br>BA: 0.00%<br>GOOGL: 44.61%<br>TSM: 87.67%<br>AAPL: 24.60%<br>VOO: -184.00%",
          "META: 128.01%<br>BA: 0.00%<br>GOOGL: 44.92%<br>TSM: 88.28%<br>AAPL: 24.78%<br>VOO: -186.00%",
          "META: 128.91%<br>BA: 0.00%<br>GOOGL: 45.24%<br>TSM: 88.90%<br>AAPL: 24.95%<br>VOO: -188.00%",
          "META: 129.80%<br>BA: 0.00%<br>GOOGL: 45.55%<br>TSM: 89.52%<br>AAPL: 25.12%<br>VOO: -190.00%",
          "META: 130.70%<br>BA: 0.00%<br>GOOGL: 45.86%<br>TSM: 90.14%<br>AAPL: 25.30%<br>VOO: -192.00%",
          "META: 131.60%<br>BA: 0.00%<br>GOOGL: 46.18%<br>TSM: 90.75%<br>AAPL: 25.47%<br>VOO: -194.00%",
          "META: 132.49%<br>BA: 0.00%<br>GOOGL: 46.49%<br>TSM: 91.37%<br>AAPL: 25.64%<br>VOO: -196.00%",
          "META: 133.39%<br>BA: 0.00%<br>GOOGL: 46.81%<br>TSM: 91.99%<br>AAPL: 25.82%<br>VOO: -198.00%"
         ],
         "hovertemplate": "Volatility: %{x:.2f}<br>Expected Return: %{y:.2f}<br><br><b>Weights:</b><br>%{customdata}<extra></extra>",
         "line": {
          "color": "blue",
          "width": 2
         },
         "mode": "lines",
         "name": "Portfolios",
         "type": "scatter",
         "x": [
          0.15581854271756143,
          0.1563400925223053,
          0.15691674207290823,
          0.157547886349841,
          0.15823287326426003,
          0.15897100681337623,
          0.15976155035141532,
          0.16060372994345828,
          0.1614967377702996,
          0.16243973555377614,
          0.16343185797373383,
          0.16447221604984483,
          0.1655599004637933,
          0.166693984799841,
          0.16787352868440056,
          0.16909758080791418,
          0.17036518181500596,
          0.171675367051494,
          0.17302716915936786,
          0.1744196205132266,
          0.17585175549389784,
          0.1773226125970048,
          0.17883123637609685,
          0.1803766792216044,
          0.18195800297831882,
          0.1835742804053345,
          0.18522459648342882,
          0.18690804957570942,
          0.188623752448033,
          0.19037083315621642,
          0.19214843580742808,
          0.19395572120338395,
          0.19579186737309204,
          0.19765607000290752,
          0.19954754277159184,
          0.20146551759792652,
          0.20340924480823078,
          0.20537799323087969,
          0.20737105022462976,
          0.20938772164724165,
          0.2114273317705489,
          0.21348922314777136,
          0.21557275643851254,
          0.21767731019651945,
          0.21980228062492757,
          0.22194708130336216,
          0.22411114289092643,
          0.22629391280877934,
          0.22849485490568874,
          0.23071344910964825,
          0.23294919106835923,
          0.23520159178111397,
          0.23747017722436387,
          0.239754487973022,
          0.24205407881933183,
          0.24436851839093107,
          0.24669738876955408,
          0.2490402851116428,
          0.2513968152719806,
          0.2537665994313171,
          0.2561492697288221,
          0.2585444699000878,
          0.26095185492128636,
          0.2633710906599981,
          0.26580185353313085,
          0.2682438301722765,
          0.27069671709677695,
          0.27316022039470905,
          0.27563405541194236,
          0.27811794644937166,
          0.2806116264683835,
          0.2831148368045761,
          0.28562732688971854,
          0.288148853981904,
          0.29067918290382844,
          0.2932180857891003,
          0.29576534183647213,
          0.29832073707186435,
          0.3008840641180416,
          0.303455121971789,
          0.30603371578842586,
          0.3086196566734901,
          0.3112127614814163,
          0.3138128526210313,
          0.3164197578676835,
          0.3190333101818241,
          0.32165334753385466,
          0.3242797127350578,
          0.3269122532744263,
          0.32955082116121004,
          0.33219527277299904,
          0.33484546870916554,
          0.3375012736494908,
          0.34016255621780356,
          0.342829188850463,
          0.34550104766952094,
          0.348178012360403,
          0.3508599660539508,
          0.3535467952126737,
          0.3562383895210609,
          0.3589346417798095,
          0.3616354478038282,
          0.36434070632388144,
          0.3670503188917404,
          0.3697641897887166,
          0.37248222593745045,
          0.375204336816839,
          0.3779304343799851,
          0.38066043297505797,
          0.38339424926895704,
          0.38613180217367477,
          0.38887301277525904,
          0.3916178042652783,
          0.39436610187469595,
          0.3971178328100647,
          0.3998729261919541,
          0.4026313129955292,
          0.40539292599319693,
          0.4081576996992482,
          0.4109255703164162,
          0.4136964756842827,
          0.4164703552294628,
          0.41924714991750106,
          0.4220268022064173,
          0.4248092560018386,
          0.4275944566136596,
          0.4303823507141763,
          0.433172886297635,
          0.4359660126411479,
          0.43876168026692286,
          0.4415598409057594,
          0.44436044746176473,
          0.44716345397824525,
          0.4499688156047292,
          0.45277648856508174,
          0.4555864301266692,
          0.4583985985705384,
          0.4612129531625697,
          0.46402945412557406,
          0.4668480626122934,
          0.4696687406792787,
          0.47249145126160885,
          0.47531615814842393,
          0.47814282595923957,
          0.4809714201210215,
          0.4838019068459847,
          0.4866342531100986,
          0.48946842663227047,
          0.49230439585418245,
          0.49514212992075995
         ],
         "y": [
          0.1468556676598537,
          0.14944946964359618,
          0.15204327162733863,
          0.15463707361108112,
          0.15723087559482357,
          0.15982467757856605,
          0.16241847956230854,
          0.165012281546051,
          0.16760608352979348,
          0.17019988551353596,
          0.17279368749727841,
          0.1753874894810209,
          0.17798129146476335,
          0.18057509344850584,
          0.1831688954322483,
          0.18576269741599077,
          0.18835649939973323,
          0.1909503013834757,
          0.19354410336721817,
          0.19613790535096065,
          0.19873170733470313,
          0.20132550931844562,
          0.2039193113021881,
          0.20651311328593056,
          0.209106915269673,
          0.2117007172534155,
          0.21429451923715798,
          0.21688832122090046,
          0.2194821232046429,
          0.22207592518838537,
          0.22466972717212785,
          0.22726352915587034,
          0.2298573311396128,
          0.23245113312335527,
          0.23504493510709776,
          0.23763873709084024,
          0.24023253907458267,
          0.24282634105832515,
          0.24542014304206763,
          0.24801394502581012,
          0.2506077470095526,
          0.25320154899329506,
          0.25579535097703754,
          0.25838915296078,
          0.26098295494452245,
          0.26357675692826493,
          0.2661705589120074,
          0.2687643608957499,
          0.2713581628794923,
          0.2739519648632348,
          0.2765457668469773,
          0.2791395688307198,
          0.28173337081446226,
          0.28432717279820474,
          0.2869209747819472,
          0.28951477676568965,
          0.29210857874943214,
          0.2947023807331746,
          0.29729618271691705,
          0.29988998470065953,
          0.302483786684402,
          0.3050775886681445,
          0.307671390651887,
          0.3102651926356294,
          0.3128589946193719,
          0.31545279660311437,
          0.31804659858685685,
          0.32064040057059934,
          0.3232342025543418,
          0.3258280045380843,
          0.3284218065218268,
          0.33101560850556916,
          0.33360941048931164,
          0.3362032124730541,
          0.3387970144567966,
          0.3413908164405391,
          0.3439846184242816,
          0.34657842040802406,
          0.34917222239176654,
          0.351766024375509,
          0.35435982635925145,
          0.35695362834299393,
          0.3595474303267364,
          0.3621412323104789,
          0.3647350342942213,
          0.3673288362779638,
          0.3699226382617063,
          0.3725164402454488,
          0.3751102422291912,
          0.3777040442129337,
          0.38029784619667617,
          0.3828916481804187,
          0.38548545016416114,
          0.3880792521479035,
          0.3906730541316461,
          0.3932668561153885,
          0.39586065809913096,
          0.3984544600828735,
          0.4010482620666159,
          0.40364206405035846,
          0.4062358660341009,
          0.4088296680178433,
          0.41142347000158586,
          0.4140172719853283,
          0.4166110739690708,
          0.41920487595281325,
          0.4217986779365558,
          0.42439247992029816,
          0.42698628190404075,
          0.4295800838877831,
          0.4321738858715256,
          0.4347676878552681,
          0.4373614898390106,
          0.43995529182275306,
          0.44254909380649554,
          0.445142895790238,
          0.4477366977739804,
          0.4503304997577229,
          0.45292430174146536,
          0.45551810372520785,
          0.45811190570895033,
          0.46070570769269276,
          0.4632995096764353,
          0.4658933116601777,
          0.46848711364392026,
          0.4710809156276627,
          0.4736747176114051,
          0.47626851959514765,
          0.4788623215788901,
          0.4814561235626326,
          0.48404992554637505,
          0.48664372753011753,
          0.48923752951386,
          0.4918313314976025,
          0.494425133481345,
          0.49701893546508735,
          0.4996127374488299,
          0.5022065394325723,
          0.5048003414163149,
          0.5073941434000573,
          0.5099879453837999,
          0.5125817473675423,
          0.5151755493512846,
          0.5177693513350272,
          0.5203631533187696,
          0.5229569553025122,
          0.5255507572862546,
          0.5281445592699971,
          0.5307383612537395,
          0.5333321632374821
         ]
        },
        {
         "marker": {
          "color": "red",
          "size": 10,
          "symbol": "circle"
         },
         "mode": "markers",
         "name": "Max Sharpe Ratio",
         "type": "scatter",
         "x": [
          0.23294919106835923
         ],
         "y": [
          0.2765457668469773
         ]
        },
        {
         "marker": {
          "color": "black",
          "size": 10,
          "symbol": "circle"
         },
         "mode": "markers+text",
         "name": "Assets",
         "text": [
          "META",
          "BA",
          "GOOGL",
          "TSM",
          "AAPL",
          "VOO"
         ],
         "textposition": "top center",
         "type": "scatter",
         "x": [
          0.2755953991446815,
          0.3905562332360691,
          0.2406117230627811,
          0.3486725495260689,
          0.3163279648249762,
          0.15581854271756143
         ],
         "y": [
          0.25308672345478245,
          0.14782398491037013,
          0.20548252566243858,
          0.2719114552844599,
          0.32600898793410665,
          0.1468556676598537
         ]
        }
       ],
       "layout": {
        "template": {
         "data": {
          "bar": [
           {
            "error_x": {
             "color": "#2a3f5f"
            },
            "error_y": {
             "color": "#2a3f5f"
            },
            "marker": {
             "line": {
              "color": "white",
              "width": 0.5
             },
             "pattern": {
              "fillmode": "overlay",
              "size": 10,
              "solidity": 0.2
             }
            },
            "type": "bar"
           }
          ],
          "barpolar": [
           {
            "marker": {
             "line": {
              "color": "white",
              "width": 0.5
             },
             "pattern": {
              "fillmode": "overlay",
              "size": 10,
              "solidity": 0.2
             }
            },
            "type": "barpolar"
           }
          ],
          "carpet": [
           {
            "aaxis": {
             "endlinecolor": "#2a3f5f",
             "gridcolor": "#C8D4E3",
             "linecolor": "#C8D4E3",
             "minorgridcolor": "#C8D4E3",
             "startlinecolor": "#2a3f5f"
            },
            "baxis": {
             "endlinecolor": "#2a3f5f",
             "gridcolor": "#C8D4E3",
             "linecolor": "#C8D4E3",
             "minorgridcolor": "#C8D4E3",
             "startlinecolor": "#2a3f5f"
            },
            "type": "carpet"
           }
          ],
          "choropleth": [
           {
            "colorbar": {
             "outlinewidth": 0,
             "ticks": ""
            },
            "type": "choropleth"
           }
          ],
          "contour": [
           {
            "colorbar": {
             "outlinewidth": 0,
             "ticks": ""
            },
            "colorscale": [
             [
              0,
              "#0d0887"
             ],
             [
              0.1111111111111111,
              "#46039f"
             ],
             [
              0.2222222222222222,
              "#7201a8"
             ],
             [
              0.3333333333333333,
              "#9c179e"
             ],
             [
              0.4444444444444444,
              "#bd3786"
             ],
             [
              0.5555555555555556,
              "#d8576b"
             ],
             [
              0.6666666666666666,
              "#ed7953"
             ],
             [
              0.7777777777777778,
              "#fb9f3a"
             ],
             [
              0.8888888888888888,
              "#fdca26"
             ],
             [
              1,
              "#f0f921"
             ]
            ],
            "type": "contour"
           }
          ],
          "contourcarpet": [
           {
            "colorbar": {
             "outlinewidth": 0,
             "ticks": ""
            },
            "type": "contourcarpet"
           }
          ],
          "heatmap": [
           {
            "colorbar": {
             "outlinewidth": 0,
             "ticks": ""
            },
            "colorscale": [
             [
              0,
              "#0d0887"
             ],
             [
              0.1111111111111111,
              "#46039f"
             ],
             [
              0.2222222222222222,
              "#7201a8"
             ],
             [
              0.3333333333333333,
              "#9c179e"
             ],
             [
              0.4444444444444444,
              "#bd3786"
             ],
             [
              0.5555555555555556,
              "#d8576b"
             ],
             [
              0.6666666666666666,
              "#ed7953"
             ],
             [
              0.7777777777777778,
              "#fb9f3a"
             ],
             [
              0.8888888888888888,
              "#fdca26"
             ],
             [
              1,
              "#f0f921"
             ]
            ],
            "type": "heatmap"
           }
          ],
          "heatmapgl": [
           {
            "colorbar": {
             "outlinewidth": 0,
             "ticks": ""
            },
            "colorscale": [
             [
              0,
              "#0d0887"
             ],
             [
              0.1111111111111111,
              "#46039f"
             ],
             [
              0.2222222222222222,
              "#7201a8"
             ],
             [
              0.3333333333333333,
              "#9c179e"
             ],
             [
              0.4444444444444444,
              "#bd3786"
             ],
             [
              0.5555555555555556,
              "#d8576b"
             ],
             [
              0.6666666666666666,
              "#ed7953"
             ],
             [
              0.7777777777777778,
              "#fb9f3a"
             ],
             [
              0.8888888888888888,
              "#fdca26"
             ],
             [
              1,
              "#f0f921"
             ]
            ],
            "type": "heatmapgl"
           }
          ],
          "histogram": [
           {
            "marker": {
             "pattern": {
              "fillmode": "overlay",
              "size": 10,
              "solidity": 0.2
             }
            },
            "type": "histogram"
           }
          ],
          "histogram2d": [
           {
            "colorbar": {
             "outlinewidth": 0,
             "ticks": ""
            },
            "colorscale": [
             [
              0,
              "#0d0887"
             ],
             [
              0.1111111111111111,
              "#46039f"
             ],
             [
              0.2222222222222222,
              "#7201a8"
             ],
             [
              0.3333333333333333,
              "#9c179e"
             ],
             [
              0.4444444444444444,
              "#bd3786"
             ],
             [
              0.5555555555555556,
              "#d8576b"
             ],
             [
              0.6666666666666666,
              "#ed7953"
             ],
             [
              0.7777777777777778,
              "#fb9f3a"
             ],
             [
              0.8888888888888888,
              "#fdca26"
             ],
             [
              1,
              "#f0f921"
             ]
            ],
            "type": "histogram2d"
           }
          ],
          "histogram2dcontour": [
           {
            "colorbar": {
             "outlinewidth": 0,
             "ticks": ""
            },
            "colorscale": [
             [
              0,
              "#0d0887"
             ],
             [
              0.1111111111111111,
              "#46039f"
             ],
             [
              0.2222222222222222,
              "#7201a8"
             ],
             [
              0.3333333333333333,
              "#9c179e"
             ],
             [
              0.4444444444444444,
              "#bd3786"
             ],
             [
              0.5555555555555556,
              "#d8576b"
             ],
             [
              0.6666666666666666,
              "#ed7953"
             ],
             [
              0.7777777777777778,
              "#fb9f3a"
             ],
             [
              0.8888888888888888,
              "#fdca26"
             ],
             [
              1,
              "#f0f921"
             ]
            ],
            "type": "histogram2dcontour"
           }
          ],
          "mesh3d": [
           {
            "colorbar": {
             "outlinewidth": 0,
             "ticks": ""
            },
            "type": "mesh3d"
           }
          ],
          "parcoords": [
           {
            "line": {
             "colorbar": {
              "outlinewidth": 0,
              "ticks": ""
             }
            },
            "type": "parcoords"
           }
          ],
          "pie": [
           {
            "automargin": true,
            "type": "pie"
           }
          ],
          "scatter": [
           {
            "fillpattern": {
             "fillmode": "overlay",
             "size": 10,
             "solidity": 0.2
            },
            "type": "scatter"
           }
          ],
          "scatter3d": [
           {
            "line": {
             "colorbar": {
              "outlinewidth": 0,
              "ticks": ""
             }
            },
            "marker": {
             "colorbar": {
              "outlinewidth": 0,
              "ticks": ""
             }
            },
            "type": "scatter3d"
           }
          ],
          "scattercarpet": [
           {
            "marker": {
             "colorbar": {
              "outlinewidth": 0,
              "ticks": ""
             }
            },
            "type": "scattercarpet"
           }
          ],
          "scattergeo": [
           {
            "marker": {
             "colorbar": {
              "outlinewidth": 0,
              "ticks": ""
             }
            },
            "type": "scattergeo"
           }
          ],
          "scattergl": [
           {
            "marker": {
             "colorbar": {
              "outlinewidth": 0,
              "ticks": ""
             }
            },
            "type": "scattergl"
           }
          ],
          "scattermapbox": [
           {
            "marker": {
             "colorbar": {
              "outlinewidth": 0,
              "ticks": ""
             }
            },
            "type": "scattermapbox"
           }
          ],
          "scatterpolar": [
           {
            "marker": {
             "colorbar": {
              "outlinewidth": 0,
              "ticks": ""
             }
            },
            "type": "scatterpolar"
           }
          ],
          "scatterpolargl": [
           {
            "marker": {
             "colorbar": {
              "outlinewidth": 0,
              "ticks": ""
             }
            },
            "type": "scatterpolargl"
           }
          ],
          "scatterternary": [
           {
            "marker": {
             "colorbar": {
              "outlinewidth": 0,
              "ticks": ""
             }
            },
            "type": "scatterternary"
           }
          ],
          "surface": [
           {
            "colorbar": {
             "outlinewidth": 0,
             "ticks": ""
            },
            "colorscale": [
             [
              0,
              "#0d0887"
             ],
             [
              0.1111111111111111,
              "#46039f"
             ],
             [
              0.2222222222222222,
              "#7201a8"
             ],
             [
              0.3333333333333333,
              "#9c179e"
             ],
             [
              0.4444444444444444,
              "#bd3786"
             ],
             [
              0.5555555555555556,
              "#d8576b"
             ],
             [
              0.6666666666666666,
              "#ed7953"
             ],
             [
              0.7777777777777778,
              "#fb9f3a"
             ],
             [
              0.8888888888888888,
              "#fdca26"
             ],
             [
              1,
              "#f0f921"
             ]
            ],
            "type": "surface"
           }
          ],
          "table": [
           {
            "cells": {
             "fill": {
              "color": "#EBF0F8"
             },
             "line": {
              "color": "white"
             }
            },
            "header": {
             "fill": {
              "color": "#C8D4E3"
             },
             "line": {
              "color": "white"
             }
            },
            "type": "table"
           }
          ]
         },
         "layout": {
          "annotationdefaults": {
           "arrowcolor": "#2a3f5f",
           "arrowhead": 0,
           "arrowwidth": 1
          },
          "autotypenumbers": "strict",
          "coloraxis": {
           "colorbar": {
            "outlinewidth": 0,
            "ticks": ""
           }
          },
          "colorscale": {
           "diverging": [
            [
             0,
             "#8e0152"
            ],
            [
             0.1,
             "#c51b7d"
            ],
            [
             0.2,
             "#de77ae"
            ],
            [
             0.3,
             "#f1b6da"
            ],
            [
             0.4,
             "#fde0ef"
            ],
            [
             0.5,
             "#f7f7f7"
            ],
            [
             0.6,
             "#e6f5d0"
            ],
            [
             0.7,
             "#b8e186"
            ],
            [
             0.8,
             "#7fbc41"
            ],
            [
             0.9,
             "#4d9221"
            ],
            [
             1,
             "#276419"
            ]
           ],
           "sequential": [
            [
             0,
             "#0d0887"
            ],
            [
             0.1111111111111111,
             "#46039f"
            ],
            [
             0.2222222222222222,
             "#7201a8"
            ],
            [
             0.3333333333333333,
             "#9c179e"
            ],
            [
             0.4444444444444444,
             "#bd3786"
            ],
            [
             0.5555555555555556,
             "#d8576b"
            ],
            [
             0.6666666666666666,
             "#ed7953"
            ],
            [
             0.7777777777777778,
             "#fb9f3a"
            ],
            [
             0.8888888888888888,
             "#fdca26"
            ],
            [
             1,
             "#f0f921"
            ]
           ],
           "sequentialminus": [
            [
             0,
             "#0d0887"
            ],
            [
             0.1111111111111111,
             "#46039f"
            ],
            [
             0.2222222222222222,
             "#7201a8"
            ],
            [
             0.3333333333333333,
             "#9c179e"
            ],
            [
             0.4444444444444444,
             "#bd3786"
            ],
            [
             0.5555555555555556,
             "#d8576b"
            ],
            [
             0.6666666666666666,
             "#ed7953"
            ],
            [
             0.7777777777777778,
             "#fb9f3a"
            ],
            [
             0.8888888888888888,
             "#fdca26"
            ],
            [
             1,
             "#f0f921"
            ]
           ]
          },
          "colorway": [
           "#636efa",
           "#EF553B",
           "#00cc96",
           "#ab63fa",
           "#FFA15A",
           "#19d3f3",
           "#FF6692",
           "#B6E880",
           "#FF97FF",
           "#FECB52"
          ],
          "font": {
           "color": "#2a3f5f"
          },
          "geo": {
           "bgcolor": "white",
           "lakecolor": "white",
           "landcolor": "white",
           "showlakes": true,
           "showland": true,
           "subunitcolor": "#C8D4E3"
          },
          "hoverlabel": {
           "align": "left"
          },
          "hovermode": "closest",
          "mapbox": {
           "style": "light"
          },
          "paper_bgcolor": "white",
          "plot_bgcolor": "white",
          "polar": {
           "angularaxis": {
            "gridcolor": "#EBF0F8",
            "linecolor": "#EBF0F8",
            "ticks": ""
           },
           "bgcolor": "white",
           "radialaxis": {
            "gridcolor": "#EBF0F8",
            "linecolor": "#EBF0F8",
            "ticks": ""
           }
          },
          "scene": {
           "xaxis": {
            "backgroundcolor": "white",
            "gridcolor": "#DFE8F3",
            "gridwidth": 2,
            "linecolor": "#EBF0F8",
            "showbackground": true,
            "ticks": "",
            "zerolinecolor": "#EBF0F8"
           },
           "yaxis": {
            "backgroundcolor": "white",
            "gridcolor": "#DFE8F3",
            "gridwidth": 2,
            "linecolor": "#EBF0F8",
            "showbackground": true,
            "ticks": "",
            "zerolinecolor": "#EBF0F8"
           },
           "zaxis": {
            "backgroundcolor": "white",
            "gridcolor": "#DFE8F3",
            "gridwidth": 2,
            "linecolor": "#EBF0F8",
            "showbackground": true,
            "ticks": "",
            "zerolinecolor": "#EBF0F8"
           }
          },
          "shapedefaults": {
           "line": {
            "color": "#2a3f5f"
           }
          },
          "ternary": {
           "aaxis": {
            "gridcolor": "#DFE8F3",
            "linecolor": "#A2B1C6",
            "ticks": ""
           },
           "baxis": {
            "gridcolor": "#DFE8F3",
            "linecolor": "#A2B1C6",
            "ticks": ""
           },
           "bgcolor": "white",
           "caxis": {
            "gridcolor": "#DFE8F3",
            "linecolor": "#A2B1C6",
            "ticks": ""
           }
          },
          "title": {
           "x": 0.05
          },
          "xaxis": {
           "automargin": true,
           "gridcolor": "#EBF0F8",
           "linecolor": "#EBF0F8",
           "ticks": "",
           "title": {
            "standoff": 15
           },
           "zerolinecolor": "#EBF0F8",
           "zerolinewidth": 2
          },
          "yaxis": {
           "automargin": true,
           "gridcolor": "#EBF0F8",
           "linecolor": "#EBF0F8",
           "ticks": "",
           "title": {
            "standoff": 15
           },
           "zerolinecolor": "#EBF0F8",
           "zerolinewidth": 2
          }
         }
        },
        "title": {
         "text": "Efficient Fronter"
        },
        "xaxis": {
         "title": {
          "text": "Volatility"
         }
        },
        "yaxis": {
         "title": {
          "text": "Expected Returns"
         }
        }
       }
      }
     },
     "metadata": {},
     "output_type": "display_data"
    }
   ],
   "source": [
    "# Sort portfolios by volatility for smooth line plotting\n",
    "frontier_sorted_indices = np.argsort(portfolio_stdev_list)\n",
    "frontier_sorted_vols = np.array(portfolio_stdev_list)[frontier_sorted_indices]\n",
    "frontier_sorted_returns = np.array(portfolio_return_list)[frontier_sorted_indices]\n",
    "\n",
    "# Sort the dataframe to match the frontier line order\n",
    "efficient_frontier_matrix_sorted = efficient_frontier_matrix.iloc[frontier_sorted_indices].reset_index(drop=True)\n",
    "\n",
    "\n",
    "# Convert dicts to formatted strings for hover\n",
    "hover_weights = []\n",
    "for w_dict in efficient_frontier_matrix_sorted[\"Weightages\"]:\n",
    "    hover_text = \"<br>\".join([f\"{k}: {v:.2%}\" for k, v in w_dict.items()])\n",
    "    hover_weights.append(hover_text)\n",
    "scatter_portfolios = go.Scatter(\n",
    "    x=frontier_sorted_vols,\n",
    "    y=frontier_sorted_returns,\n",
    "    mode='lines',\n",
    "    line=dict(color='blue', width=2),\n",
    "    name=\"Portfolios\",\n",
    "    customdata=hover_weights,\n",
    "    hovertemplate=\n",
    "        \"Volatility: %{x:.2f}<br>\" +\n",
    "        \"Expected Return: %{y:.2f}<br><br>\" +\n",
    "        \"<b>Weights:</b><br>%{customdata}<extra></extra>\"\n",
    ")\n",
    "\n",
    "# 2. Max Sharpe portfolio (star marker)\n",
    "max_sharpe = go.Scatter(\n",
    "    x=[mve_stdev],\n",
    "    y=[mve_mean],\n",
    "    mode='markers',\n",
    "    marker=dict(symbol='circle', size=10, color='red'),\n",
    "    name='Max Sharpe Ratio'\n",
    ")\n",
    "\n",
    "# 3. Individual assets (if applicable)\n",
    "individual_assets = go.Scatter(\n",
    "    x=asset_stdevs,\n",
    "    y=asset_means,\n",
    "    mode='markers+text',\n",
    "    text=assetlist,\n",
    "    textposition='top center',\n",
    "    marker=dict(symbol='circle', size=10, color='black'),\n",
    "    name='Assets'\n",
    ")\n",
    "\n",
    "fig = go.Figure([scatter_portfolios,max_sharpe,individual_assets])\n",
    "fig.update_layout(\n",
    "    title=\"Efficient Fronter\",\n",
    "    xaxis_title = 'Volatility',\n",
    "    yaxis_title = \"Expected Returns\",\n",
    "    template= 'plotly_white'\n",
    ")"
   ]
  },
  {
   "cell_type": "code",
   "execution_count": 87,
   "id": "1e62f0bf",
   "metadata": {},
   "outputs": [
    {
     "data": {
      "application/vnd.plotly.v1+json": {
       "config": {
        "plotlyServerURL": "https://plot.ly"
       },
       "data": [
        {
         "hole": 0.5,
         "hoverinfo": "label+percent",
         "labels": [
          "META",
          "BA",
          "GOOGL",
          "TSM",
          "AAPL",
          "VOO"
         ],
         "textinfo": "label+percent",
         "textposition": "inside",
         "type": "pie",
         "values": [
          44.76,
          0,
          15.71,
          30.87,
          8.66,
          0
         ]
        }
       ],
       "layout": {
        "showlegend": true,
        "template": {
         "data": {
          "bar": [
           {
            "error_x": {
             "color": "#2a3f5f"
            },
            "error_y": {
             "color": "#2a3f5f"
            },
            "marker": {
             "line": {
              "color": "white",
              "width": 0.5
             },
             "pattern": {
              "fillmode": "overlay",
              "size": 10,
              "solidity": 0.2
             }
            },
            "type": "bar"
           }
          ],
          "barpolar": [
           {
            "marker": {
             "line": {
              "color": "white",
              "width": 0.5
             },
             "pattern": {
              "fillmode": "overlay",
              "size": 10,
              "solidity": 0.2
             }
            },
            "type": "barpolar"
           }
          ],
          "carpet": [
           {
            "aaxis": {
             "endlinecolor": "#2a3f5f",
             "gridcolor": "#C8D4E3",
             "linecolor": "#C8D4E3",
             "minorgridcolor": "#C8D4E3",
             "startlinecolor": "#2a3f5f"
            },
            "baxis": {
             "endlinecolor": "#2a3f5f",
             "gridcolor": "#C8D4E3",
             "linecolor": "#C8D4E3",
             "minorgridcolor": "#C8D4E3",
             "startlinecolor": "#2a3f5f"
            },
            "type": "carpet"
           }
          ],
          "choropleth": [
           {
            "colorbar": {
             "outlinewidth": 0,
             "ticks": ""
            },
            "type": "choropleth"
           }
          ],
          "contour": [
           {
            "colorbar": {
             "outlinewidth": 0,
             "ticks": ""
            },
            "colorscale": [
             [
              0,
              "#0d0887"
             ],
             [
              0.1111111111111111,
              "#46039f"
             ],
             [
              0.2222222222222222,
              "#7201a8"
             ],
             [
              0.3333333333333333,
              "#9c179e"
             ],
             [
              0.4444444444444444,
              "#bd3786"
             ],
             [
              0.5555555555555556,
              "#d8576b"
             ],
             [
              0.6666666666666666,
              "#ed7953"
             ],
             [
              0.7777777777777778,
              "#fb9f3a"
             ],
             [
              0.8888888888888888,
              "#fdca26"
             ],
             [
              1,
              "#f0f921"
             ]
            ],
            "type": "contour"
           }
          ],
          "contourcarpet": [
           {
            "colorbar": {
             "outlinewidth": 0,
             "ticks": ""
            },
            "type": "contourcarpet"
           }
          ],
          "heatmap": [
           {
            "colorbar": {
             "outlinewidth": 0,
             "ticks": ""
            },
            "colorscale": [
             [
              0,
              "#0d0887"
             ],
             [
              0.1111111111111111,
              "#46039f"
             ],
             [
              0.2222222222222222,
              "#7201a8"
             ],
             [
              0.3333333333333333,
              "#9c179e"
             ],
             [
              0.4444444444444444,
              "#bd3786"
             ],
             [
              0.5555555555555556,
              "#d8576b"
             ],
             [
              0.6666666666666666,
              "#ed7953"
             ],
             [
              0.7777777777777778,
              "#fb9f3a"
             ],
             [
              0.8888888888888888,
              "#fdca26"
             ],
             [
              1,
              "#f0f921"
             ]
            ],
            "type": "heatmap"
           }
          ],
          "heatmapgl": [
           {
            "colorbar": {
             "outlinewidth": 0,
             "ticks": ""
            },
            "colorscale": [
             [
              0,
              "#0d0887"
             ],
             [
              0.1111111111111111,
              "#46039f"
             ],
             [
              0.2222222222222222,
              "#7201a8"
             ],
             [
              0.3333333333333333,
              "#9c179e"
             ],
             [
              0.4444444444444444,
              "#bd3786"
             ],
             [
              0.5555555555555556,
              "#d8576b"
             ],
             [
              0.6666666666666666,
              "#ed7953"
             ],
             [
              0.7777777777777778,
              "#fb9f3a"
             ],
             [
              0.8888888888888888,
              "#fdca26"
             ],
             [
              1,
              "#f0f921"
             ]
            ],
            "type": "heatmapgl"
           }
          ],
          "histogram": [
           {
            "marker": {
             "pattern": {
              "fillmode": "overlay",
              "size": 10,
              "solidity": 0.2
             }
            },
            "type": "histogram"
           }
          ],
          "histogram2d": [
           {
            "colorbar": {
             "outlinewidth": 0,
             "ticks": ""
            },
            "colorscale": [
             [
              0,
              "#0d0887"
             ],
             [
              0.1111111111111111,
              "#46039f"
             ],
             [
              0.2222222222222222,
              "#7201a8"
             ],
             [
              0.3333333333333333,
              "#9c179e"
             ],
             [
              0.4444444444444444,
              "#bd3786"
             ],
             [
              0.5555555555555556,
              "#d8576b"
             ],
             [
              0.6666666666666666,
              "#ed7953"
             ],
             [
              0.7777777777777778,
              "#fb9f3a"
             ],
             [
              0.8888888888888888,
              "#fdca26"
             ],
             [
              1,
              "#f0f921"
             ]
            ],
            "type": "histogram2d"
           }
          ],
          "histogram2dcontour": [
           {
            "colorbar": {
             "outlinewidth": 0,
             "ticks": ""
            },
            "colorscale": [
             [
              0,
              "#0d0887"
             ],
             [
              0.1111111111111111,
              "#46039f"
             ],
             [
              0.2222222222222222,
              "#7201a8"
             ],
             [
              0.3333333333333333,
              "#9c179e"
             ],
             [
              0.4444444444444444,
              "#bd3786"
             ],
             [
              0.5555555555555556,
              "#d8576b"
             ],
             [
              0.6666666666666666,
              "#ed7953"
             ],
             [
              0.7777777777777778,
              "#fb9f3a"
             ],
             [
              0.8888888888888888,
              "#fdca26"
             ],
             [
              1,
              "#f0f921"
             ]
            ],
            "type": "histogram2dcontour"
           }
          ],
          "mesh3d": [
           {
            "colorbar": {
             "outlinewidth": 0,
             "ticks": ""
            },
            "type": "mesh3d"
           }
          ],
          "parcoords": [
           {
            "line": {
             "colorbar": {
              "outlinewidth": 0,
              "ticks": ""
             }
            },
            "type": "parcoords"
           }
          ],
          "pie": [
           {
            "automargin": true,
            "type": "pie"
           }
          ],
          "scatter": [
           {
            "fillpattern": {
             "fillmode": "overlay",
             "size": 10,
             "solidity": 0.2
            },
            "type": "scatter"
           }
          ],
          "scatter3d": [
           {
            "line": {
             "colorbar": {
              "outlinewidth": 0,
              "ticks": ""
             }
            },
            "marker": {
             "colorbar": {
              "outlinewidth": 0,
              "ticks": ""
             }
            },
            "type": "scatter3d"
           }
          ],
          "scattercarpet": [
           {
            "marker": {
             "colorbar": {
              "outlinewidth": 0,
              "ticks": ""
             }
            },
            "type": "scattercarpet"
           }
          ],
          "scattergeo": [
           {
            "marker": {
             "colorbar": {
              "outlinewidth": 0,
              "ticks": ""
             }
            },
            "type": "scattergeo"
           }
          ],
          "scattergl": [
           {
            "marker": {
             "colorbar": {
              "outlinewidth": 0,
              "ticks": ""
             }
            },
            "type": "scattergl"
           }
          ],
          "scattermapbox": [
           {
            "marker": {
             "colorbar": {
              "outlinewidth": 0,
              "ticks": ""
             }
            },
            "type": "scattermapbox"
           }
          ],
          "scatterpolar": [
           {
            "marker": {
             "colorbar": {
              "outlinewidth": 0,
              "ticks": ""
             }
            },
            "type": "scatterpolar"
           }
          ],
          "scatterpolargl": [
           {
            "marker": {
             "colorbar": {
              "outlinewidth": 0,
              "ticks": ""
             }
            },
            "type": "scatterpolargl"
           }
          ],
          "scatterternary": [
           {
            "marker": {
             "colorbar": {
              "outlinewidth": 0,
              "ticks": ""
             }
            },
            "type": "scatterternary"
           }
          ],
          "surface": [
           {
            "colorbar": {
             "outlinewidth": 0,
             "ticks": ""
            },
            "colorscale": [
             [
              0,
              "#0d0887"
             ],
             [
              0.1111111111111111,
              "#46039f"
             ],
             [
              0.2222222222222222,
              "#7201a8"
             ],
             [
              0.3333333333333333,
              "#9c179e"
             ],
             [
              0.4444444444444444,
              "#bd3786"
             ],
             [
              0.5555555555555556,
              "#d8576b"
             ],
             [
              0.6666666666666666,
              "#ed7953"
             ],
             [
              0.7777777777777778,
              "#fb9f3a"
             ],
             [
              0.8888888888888888,
              "#fdca26"
             ],
             [
              1,
              "#f0f921"
             ]
            ],
            "type": "surface"
           }
          ],
          "table": [
           {
            "cells": {
             "fill": {
              "color": "#EBF0F8"
             },
             "line": {
              "color": "white"
             }
            },
            "header": {
             "fill": {
              "color": "#C8D4E3"
             },
             "line": {
              "color": "white"
             }
            },
            "type": "table"
           }
          ]
         },
         "layout": {
          "annotationdefaults": {
           "arrowcolor": "#2a3f5f",
           "arrowhead": 0,
           "arrowwidth": 1
          },
          "autotypenumbers": "strict",
          "coloraxis": {
           "colorbar": {
            "outlinewidth": 0,
            "ticks": ""
           }
          },
          "colorscale": {
           "diverging": [
            [
             0,
             "#8e0152"
            ],
            [
             0.1,
             "#c51b7d"
            ],
            [
             0.2,
             "#de77ae"
            ],
            [
             0.3,
             "#f1b6da"
            ],
            [
             0.4,
             "#fde0ef"
            ],
            [
             0.5,
             "#f7f7f7"
            ],
            [
             0.6,
             "#e6f5d0"
            ],
            [
             0.7,
             "#b8e186"
            ],
            [
             0.8,
             "#7fbc41"
            ],
            [
             0.9,
             "#4d9221"
            ],
            [
             1,
             "#276419"
            ]
           ],
           "sequential": [
            [
             0,
             "#0d0887"
            ],
            [
             0.1111111111111111,
             "#46039f"
            ],
            [
             0.2222222222222222,
             "#7201a8"
            ],
            [
             0.3333333333333333,
             "#9c179e"
            ],
            [
             0.4444444444444444,
             "#bd3786"
            ],
            [
             0.5555555555555556,
             "#d8576b"
            ],
            [
             0.6666666666666666,
             "#ed7953"
            ],
            [
             0.7777777777777778,
             "#fb9f3a"
            ],
            [
             0.8888888888888888,
             "#fdca26"
            ],
            [
             1,
             "#f0f921"
            ]
           ],
           "sequentialminus": [
            [
             0,
             "#0d0887"
            ],
            [
             0.1111111111111111,
             "#46039f"
            ],
            [
             0.2222222222222222,
             "#7201a8"
            ],
            [
             0.3333333333333333,
             "#9c179e"
            ],
            [
             0.4444444444444444,
             "#bd3786"
            ],
            [
             0.5555555555555556,
             "#d8576b"
            ],
            [
             0.6666666666666666,
             "#ed7953"
            ],
            [
             0.7777777777777778,
             "#fb9f3a"
            ],
            [
             0.8888888888888888,
             "#fdca26"
            ],
            [
             1,
             "#f0f921"
            ]
           ]
          },
          "colorway": [
           "#636efa",
           "#EF553B",
           "#00cc96",
           "#ab63fa",
           "#FFA15A",
           "#19d3f3",
           "#FF6692",
           "#B6E880",
           "#FF97FF",
           "#FECB52"
          ],
          "font": {
           "color": "#2a3f5f"
          },
          "geo": {
           "bgcolor": "white",
           "lakecolor": "white",
           "landcolor": "white",
           "showlakes": true,
           "showland": true,
           "subunitcolor": "#C8D4E3"
          },
          "hoverlabel": {
           "align": "left"
          },
          "hovermode": "closest",
          "mapbox": {
           "style": "light"
          },
          "paper_bgcolor": "white",
          "plot_bgcolor": "white",
          "polar": {
           "angularaxis": {
            "gridcolor": "#EBF0F8",
            "linecolor": "#EBF0F8",
            "ticks": ""
           },
           "bgcolor": "white",
           "radialaxis": {
            "gridcolor": "#EBF0F8",
            "linecolor": "#EBF0F8",
            "ticks": ""
           }
          },
          "scene": {
           "xaxis": {
            "backgroundcolor": "white",
            "gridcolor": "#DFE8F3",
            "gridwidth": 2,
            "linecolor": "#EBF0F8",
            "showbackground": true,
            "ticks": "",
            "zerolinecolor": "#EBF0F8"
           },
           "yaxis": {
            "backgroundcolor": "white",
            "gridcolor": "#DFE8F3",
            "gridwidth": 2,
            "linecolor": "#EBF0F8",
            "showbackground": true,
            "ticks": "",
            "zerolinecolor": "#EBF0F8"
           },
           "zaxis": {
            "backgroundcolor": "white",
            "gridcolor": "#DFE8F3",
            "gridwidth": 2,
            "linecolor": "#EBF0F8",
            "showbackground": true,
            "ticks": "",
            "zerolinecolor": "#EBF0F8"
           }
          },
          "shapedefaults": {
           "line": {
            "color": "#2a3f5f"
           }
          },
          "ternary": {
           "aaxis": {
            "gridcolor": "#DFE8F3",
            "linecolor": "#A2B1C6",
            "ticks": ""
           },
           "baxis": {
            "gridcolor": "#DFE8F3",
            "linecolor": "#A2B1C6",
            "ticks": ""
           },
           "bgcolor": "white",
           "caxis": {
            "gridcolor": "#DFE8F3",
            "linecolor": "#A2B1C6",
            "ticks": ""
           }
          },
          "title": {
           "x": 0.05
          },
          "xaxis": {
           "automargin": true,
           "gridcolor": "#EBF0F8",
           "linecolor": "#EBF0F8",
           "ticks": "",
           "title": {
            "standoff": 15
           },
           "zerolinecolor": "#EBF0F8",
           "zerolinewidth": 2
          },
          "yaxis": {
           "automargin": true,
           "gridcolor": "#EBF0F8",
           "linecolor": "#EBF0F8",
           "ticks": "",
           "title": {
            "standoff": 15
           },
           "zerolinecolor": "#EBF0F8",
           "zerolinewidth": 2
          }
         }
        },
        "title": {
         "text": "MVE Portfolio Weightages (Donut Chart)"
        }
       }
      }
     },
     "metadata": {},
     "output_type": "display_data"
    }
   ],
   "source": [
    "# Format weights for display\n",
    "ratios = [round(float(i * 100), 2) for i in max_sharpe_weights]\n",
    "\n",
    "fig = go.Figure(data=[go.Pie(\n",
    "    labels=assetlist,\n",
    "    values=ratios,\n",
    "    hole=0.5,  # creates the donut\n",
    "    hoverinfo='label+percent',\n",
    "    textinfo='label+percent',\n",
    "    textposition='inside'\n",
    ")])\n",
    "\n",
    "fig.update_layout(\n",
    "    title_text='MVE Portfolio Weightages (Donut Chart)',\n",
    "    showlegend=True,\n",
    "    template='plotly_white'\n",
    ")\n",
    "\n",
    "fig.show()"
   ]
  },
  {
   "cell_type": "code",
   "execution_count": 88,
   "id": "993bf745",
   "metadata": {},
   "outputs": [],
   "source": [
    "# Finding Capital Allocation Line\n",
    "\n",
    "# Create weight range from 0 to 1 (inclusive) with 0.1 intervals\n",
    "w_risky = np.round(np.arange(0, 1.05, 0.05), 3)\n",
    "w_riskfree = np.round(1 - w_risky, 3)\n",
    "\n",
    "# Create DataFrame with weight range\n",
    "capital_allocation_weight = pd.DataFrame({\n",
    "    \"w1\": w_risky,\n",
    "    \"w2\": w_riskfree\n",
    "})\n",
    "\n",
    "# Create a range of return based on weightage\n",
    "capital_allocation_return_list=[]\n",
    "for index,row in capital_allocation_weight.iterrows():\n",
    "    risky_return= row[\"w1\"]*mve_mean\n",
    "    riskfree_return= row[\"w2\"]*asset_risk_free\n",
    "    weighted_portfolio_return= risky_return+riskfree_return\n",
    "    capital_allocation_return_list.append(weighted_portfolio_return)\n",
    "\n",
    "# Calculate Variance for each weight\n",
    "capital_allocation_variance_list=[]\n",
    "for index, row in capital_allocation_weight.iterrows():\n",
    "    total_volatility= (row[\"w1\"])**2 *mve_stdev **2\n",
    "    capital_allocation_variance_list.append(total_volatility)\n",
    "\n",
    "# Calculate Standard Deviation for each weight\n",
    "capital_allocation_stdev_list=[]\n",
    "for var in capital_allocation_variance_list:\n",
    "    capital_allocation_stdev_list.append((np.sqrt(var)))\n",
    "\n",
    "# Calculate Sharpe Ratio for each weight\n",
    "capital_allocation_sharpe_list=[]\n",
    "for idx, weight in capital_allocation_weight.iterrows():\n",
    "    capital_allocation_sharpe_list.append(mve_sharpe)\n",
    "\n",
    "# Merge all data into df\n",
    "capital_allocation_matrix=pd.DataFrame({\n",
    "    \"w(MVE)\":w_risky,\n",
    "    \"w(Risk Free)\":w_riskfree,\n",
    "    \"Mean Return\":capital_allocation_return_list,\n",
    "    \"Variance\":capital_allocation_variance_list,\n",
    "    \"Standard Deviation\": capital_allocation_stdev_list,\n",
    "    \"Sharpe Ratio\": capital_allocation_sharpe_list\n",
    "})"
   ]
  },
  {
   "cell_type": "code",
   "execution_count": 66,
   "id": "4cb21428",
   "metadata": {},
   "outputs": [
    {
     "data": {
      "text/plain": [
       "Text(0.5, 1.0, 'Capital Allocation Line')"
      ]
     },
     "execution_count": 66,
     "metadata": {},
     "output_type": "execute_result"
    },
    {
     "data": {
      "image/png": "[encoded data removed]",
      "text/plain": [
       "<Figure size 640x480 with 1 Axes>"
      ]
     },
     "metadata": {},
     "output_type": "display_data"
    }
   ],
   "source": [
    "# Plotting CAL Line\n",
    "fig,ax= plt.subplots()\n",
    "#Plotting MVE Point\n",
    "ax.plot(mve_stdev,mve_mean,\"go\")\n",
    "plt.annotate(text=f\"MVE Point\",\n",
    "             xy=(mve_stdev,mve_mean),\n",
    "             textcoords=\"offset points\",\n",
    "             xytext=(10,0),\n",
    "             ha=\"left\")\n",
    "\n",
    "#Plotting CAL Line\n",
    "ax.plot(capital_allocation_stdev_list,capital_allocation_return_list,label=\"Capital Allocation Line\")\n",
    "\n",
    "# Annotating the Risk Free Rate\n",
    "ax.plot(0,asset_risk_free,\"bo\")\n",
    "plt.annotate(text=f\"Risk Free Rate\",\n",
    "             xy=(0,asset_risk_free),\n",
    "             textcoords=\"offset points\",\n",
    "             xytext=(10,0),\n",
    "             ha=\"left\")\n",
    "\n",
    "# Plotting Capital Allocation line\n",
    "\n",
    "# Formatting the Graph\n",
    "ax.spines['top'].set_visible(False)\n",
    "ax.spines['bottom'].set_visible(False)\n",
    "ax.spines['left'].set_visible(False)\n",
    "ax.spines['right'].set_visible(False)\n",
    "plt.title(label=\"Capital Allocation Line\")"
   ]
  },
  {
   "cell_type": "code",
   "execution_count": 95,
   "id": "5d648ab1",
   "metadata": {},
   "outputs": [
    {
     "data": {
      "application/vnd.plotly.v1+json": {
       "config": {
        "plotlyServerURL": "https://plot.ly"
       },
       "data": [
        {
         "colorbar": {
          "title": {
           "text": "Correlation"
          }
         },
         "colorscale": [
          [
           0,
           "rgb(103,0,31)"
          ],
          [
           0.1,
           "rgb(178,24,43)"
          ],
          [
           0.2,
           "rgb(214,96,77)"
          ],
          [
           0.3,
           "rgb(244,165,130)"
          ],
          [
           0.4,
           "rgb(253,219,199)"
          ],
          [
           0.5,
           "rgb(247,247,247)"
          ],
          [
           0.6,
           "rgb(209,229,240)"
          ],
          [
           0.7,
           "rgb(146,197,222)"
          ],
          [
           0.8,
           "rgb(67,147,195)"
          ],
          [
           0.9,
           "rgb(33,102,172)"
          ],
          [
           1,
           "rgb(5,48,97)"
          ]
         ],
         "hoverongaps": false,
         "type": "heatmap",
         "x": [
          "AAPL",
          "BA",
          "GOOGL",
          "META",
          "TSM",
          "VOO"
         ],
         "y": [
          "AAPL",
          "BA",
          "GOOGL",
          "META",
          "TSM",
          "VOO"
         ],
         "z": [
          [
           1,
           0.29044424895627796,
           0.474759073240068,
           0.3739046472206813,
           0.43023904037419286,
           0.6545950917511759
          ],
          [
           0.29044424895627796,
           1,
           0.3316649372235417,
           0.23927653282921568,
           0.2746345976052052,
           0.5520370894972582
          ],
          [
           0.474759073240068,
           0.3316649372235417,
           1,
           0.4780302469070486,
           0.5531729490450353,
           0.6712288784410643
          ],
          [
           0.3739046472206813,
           0.23927653282921568,
           0.4780302469070486,
           1,
           0.5059873041647982,
           0.5530130500773472
          ],
          [
           0.43023904037419286,
           0.2746345976052052,
           0.5531729490450353,
           0.5059873041647982,
           1,
           0.5426091159773286
          ],
          [
           0.6545950917511759,
           0.5520370894972582,
           0.6712288784410643,
           0.5530130500773472,
           0.5426091159773286,
           1
          ]
         ],
         "zmax": 1,
         "zmin": -1
        }
       ],
       "layout": {
        "template": {
         "data": {
          "bar": [
           {
            "error_x": {
             "color": "#2a3f5f"
            },
            "error_y": {
             "color": "#2a3f5f"
            },
            "marker": {
             "line": {
              "color": "white",
              "width": 0.5
             },
             "pattern": {
              "fillmode": "overlay",
              "size": 10,
              "solidity": 0.2
             }
            },
            "type": "bar"
           }
          ],
          "barpolar": [
           {
            "marker": {
             "line": {
              "color": "white",
              "width": 0.5
             },
             "pattern": {
              "fillmode": "overlay",
              "size": 10,
              "solidity": 0.2
             }
            },
            "type": "barpolar"
           }
          ],
          "carpet": [
           {
            "aaxis": {
             "endlinecolor": "#2a3f5f",
             "gridcolor": "#C8D4E3",
             "linecolor": "#C8D4E3",
             "minorgridcolor": "#C8D4E3",
             "startlinecolor": "#2a3f5f"
            },
            "baxis": {
             "endlinecolor": "#2a3f5f",
             "gridcolor": "#C8D4E3",
             "linecolor": "#C8D4E3",
             "minorgridcolor": "#C8D4E3",
             "startlinecolor": "#2a3f5f"
            },
            "type": "carpet"
           }
          ],
          "choropleth": [
           {
            "colorbar": {
             "outlinewidth": 0,
             "ticks": ""
            },
            "type": "choropleth"
           }
          ],
          "contour": [
           {
            "colorbar": {
             "outlinewidth": 0,
             "ticks": ""
            },
            "colorscale": [
             [
              0,
              "#0d0887"
             ],
             [
              0.1111111111111111,
              "#46039f"
             ],
             [
              0.2222222222222222,
              "#7201a8"
             ],
             [
              0.3333333333333333,
              "#9c179e"
             ],
             [
              0.4444444444444444,
              "#bd3786"
             ],
             [
              0.5555555555555556,
              "#d8576b"
             ],
             [
              0.6666666666666666,
              "#ed7953"
             ],
             [
              0.7777777777777778,
              "#fb9f3a"
             ],
             [
              0.8888888888888888,
              "#fdca26"
             ],
             [
              1,
              "#f0f921"
             ]
            ],
            "type": "contour"
           }
          ],
          "contourcarpet": [
           {
            "colorbar": {
             "outlinewidth": 0,
             "ticks": ""
            },
            "type": "contourcarpet"
           }
          ],
          "heatmap": [
           {
            "colorbar": {
             "outlinewidth": 0,
             "ticks": ""
            },
            "colorscale": [
             [
              0,
              "#0d0887"
             ],
             [
              0.1111111111111111,
              "#46039f"
             ],
             [
              0.2222222222222222,
              "#7201a8"
             ],
             [
              0.3333333333333333,
              "#9c179e"
             ],
             [
              0.4444444444444444,
              "#bd3786"
             ],
             [
              0.5555555555555556,
              "#d8576b"
             ],
             [
              0.6666666666666666,
              "#ed7953"
             ],
             [
              0.7777777777777778,
              "#fb9f3a"
             ],
             [
              0.8888888888888888,
              "#fdca26"
             ],
             [
              1,
              "#f0f921"
             ]
            ],
            "type": "heatmap"
           }
          ],
          "heatmapgl": [
           {
            "colorbar": {
             "outlinewidth": 0,
             "ticks": ""
            },
            "colorscale": [
             [
              0,
              "#0d0887"
             ],
             [
              0.1111111111111111,
              "#46039f"
             ],
             [
              0.2222222222222222,
              "#7201a8"
             ],
             [
              0.3333333333333333,
              "#9c179e"
             ],
             [
              0.4444444444444444,
              "#bd3786"
             ],
             [
              0.5555555555555556,
              "#d8576b"
             ],
             [
              0.6666666666666666,
              "#ed7953"
             ],
             [
              0.7777777777777778,
              "#fb9f3a"
             ],
             [
              0.8888888888888888,
              "#fdca26"
             ],
             [
              1,
              "#f0f921"
             ]
            ],
            "type": "heatmapgl"
           }
          ],
          "histogram": [
           {
            "marker": {
             "pattern": {
              "fillmode": "overlay",
              "size": 10,
              "solidity": 0.2
             }
            },
            "type": "histogram"
           }
          ],
          "histogram2d": [
           {
            "colorbar": {
             "outlinewidth": 0,
             "ticks": ""
            },
            "colorscale": [
             [
              0,
              "#0d0887"
             ],
             [
              0.1111111111111111,
              "#46039f"
             ],
             [
              0.2222222222222222,
              "#7201a8"
             ],
             [
              0.3333333333333333,
              "#9c179e"
             ],
             [
              0.4444444444444444,
              "#bd3786"
             ],
             [
              0.5555555555555556,
              "#d8576b"
             ],
             [
              0.6666666666666666,
              "#ed7953"
             ],
             [
              0.7777777777777778,
              "#fb9f3a"
             ],
             [
              0.8888888888888888,
              "#fdca26"
             ],
             [
              1,
              "#f0f921"
             ]
            ],
            "type": "histogram2d"
           }
          ],
          "histogram2dcontour": [
           {
            "colorbar": {
             "outlinewidth": 0,
             "ticks": ""
            },
            "colorscale": [
             [
              0,
              "#0d0887"
             ],
             [
              0.1111111111111111,
              "#46039f"
             ],
             [
              0.2222222222222222,
              "#7201a8"
             ],
             [
              0.3333333333333333,
              "#9c179e"
             ],
             [
              0.4444444444444444,
              "#bd3786"
             ],
             [
              0.5555555555555556,
              "#d8576b"
             ],
             [
              0.6666666666666666,
              "#ed7953"
             ],
             [
              0.7777777777777778,
              "#fb9f3a"
             ],
             [
              0.8888888888888888,
              "#fdca26"
             ],
             [
              1,
              "#f0f921"
             ]
            ],
            "type": "histogram2dcontour"
           }
          ],
          "mesh3d": [
           {
            "colorbar": {
             "outlinewidth": 0,
             "ticks": ""
            },
            "type": "mesh3d"
           }
          ],
          "parcoords": [
           {
            "line": {
             "colorbar": {
              "outlinewidth": 0,
              "ticks": ""
             }
            },
            "type": "parcoords"
           }
          ],
          "pie": [
           {
            "automargin": true,
            "type": "pie"
           }
          ],
          "scatter": [
           {
            "fillpattern": {
             "fillmode": "overlay",
             "size": 10,
             "solidity": 0.2
            },
            "type": "scatter"
           }
          ],
          "scatter3d": [
           {
            "line": {
             "colorbar": {
              "outlinewidth": 0,
              "ticks": ""
             }
            },
            "marker": {
             "colorbar": {
              "outlinewidth": 0,
              "ticks": ""
             }
            },
            "type": "scatter3d"
           }
          ],
          "scattercarpet": [
           {
            "marker": {
             "colorbar": {
              "outlinewidth": 0,
              "ticks": ""
             }
            },
            "type": "scattercarpet"
           }
          ],
          "scattergeo": [
           {
            "marker": {
             "colorbar": {
              "outlinewidth": 0,
              "ticks": ""
             }
            },
            "type": "scattergeo"
           }
          ],
          "scattergl": [
           {
            "marker": {
             "colorbar": {
              "outlinewidth": 0,
              "ticks": ""
             }
            },
            "type": "scattergl"
           }
          ],
          "scattermapbox": [
           {
            "marker": {
             "colorbar": {
              "outlinewidth": 0,
              "ticks": ""
             }
            },
            "type": "scattermapbox"
           }
          ],
          "scatterpolar": [
           {
            "marker": {
             "colorbar": {
              "outlinewidth": 0,
              "ticks": ""
             }
            },
            "type": "scatterpolar"
           }
          ],
          "scatterpolargl": [
           {
            "marker": {
             "colorbar": {
              "outlinewidth": 0,
              "ticks": ""
             }
            },
            "type": "scatterpolargl"
           }
          ],
          "scatterternary": [
           {
            "marker": {
             "colorbar": {
              "outlinewidth": 0,
              "ticks": ""
             }
            },
            "type": "scatterternary"
           }
          ],
          "surface": [
           {
            "colorbar": {
             "outlinewidth": 0,
             "ticks": ""
            },
            "colorscale": [
             [
              0,
              "#0d0887"
             ],
             [
              0.1111111111111111,
              "#46039f"
             ],
             [
              0.2222222222222222,
              "#7201a8"
             ],
             [
              0.3333333333333333,
              "#9c179e"
             ],
             [
              0.4444444444444444,
              "#bd3786"
             ],
             [
              0.5555555555555556,
              "#d8576b"
             ],
             [
              0.6666666666666666,
              "#ed7953"
             ],
             [
              0.7777777777777778,
              "#fb9f3a"
             ],
             [
              0.8888888888888888,
              "#fdca26"
             ],
             [
              1,
              "#f0f921"
             ]
            ],
            "type": "surface"
           }
          ],
          "table": [
           {
            "cells": {
             "fill": {
              "color": "#EBF0F8"
             },
             "line": {
              "color": "white"
             }
            },
            "header": {
             "fill": {
              "color": "#C8D4E3"
             },
             "line": {
              "color": "white"
             }
            },
            "type": "table"
           }
          ]
         },
         "layout": {
          "annotationdefaults": {
           "arrowcolor": "#2a3f5f",
           "arrowhead": 0,
           "arrowwidth": 1
          },
          "autotypenumbers": "strict",
          "coloraxis": {
           "colorbar": {
            "outlinewidth": 0,
            "ticks": ""
           }
          },
          "colorscale": {
           "diverging": [
            [
             0,
             "#8e0152"
            ],
            [
             0.1,
             "#c51b7d"
            ],
            [
             0.2,
             "#de77ae"
            ],
            [
             0.3,
             "#f1b6da"
            ],
            [
             0.4,
             "#fde0ef"
            ],
            [
             0.5,
             "#f7f7f7"
            ],
            [
             0.6,
             "#e6f5d0"
            ],
            [
             0.7,
             "#b8e186"
            ],
            [
             0.8,
             "#7fbc41"
            ],
            [
             0.9,
             "#4d9221"
            ],
            [
             1,
             "#276419"
            ]
           ],
           "sequential": [
            [
             0,
             "#0d0887"
            ],
            [
             0.1111111111111111,
             "#46039f"
            ],
            [
             0.2222222222222222,
             "#7201a8"
            ],
            [
             0.3333333333333333,
             "#9c179e"
            ],
            [
             0.4444444444444444,
             "#bd3786"
            ],
            [
             0.5555555555555556,
             "#d8576b"
            ],
            [
             0.6666666666666666,
             "#ed7953"
            ],
            [
             0.7777777777777778,
             "#fb9f3a"
            ],
            [
             0.8888888888888888,
             "#fdca26"
            ],
            [
             1,
             "#f0f921"
            ]
           ],
           "sequentialminus": [
            [
             0,
             "#0d0887"
            ],
            [
             0.1111111111111111,
             "#46039f"
            ],
            [
             0.2222222222222222,
             "#7201a8"
            ],
            [
             0.3333333333333333,
             "#9c179e"
            ],
            [
             0.4444444444444444,
             "#bd3786"
            ],
            [
             0.5555555555555556,
             "#d8576b"
            ],
            [
             0.6666666666666666,
             "#ed7953"
            ],
            [
             0.7777777777777778,
             "#fb9f3a"
            ],
            [
             0.8888888888888888,
             "#fdca26"
            ],
            [
             1,
             "#f0f921"
            ]
           ]
          },
          "colorway": [
           "#636efa",
           "#EF553B",
           "#00cc96",
           "#ab63fa",
           "#FFA15A",
           "#19d3f3",
           "#FF6692",
           "#B6E880",
           "#FF97FF",
           "#FECB52"
          ],
          "font": {
           "color": "#2a3f5f"
          },
          "geo": {
           "bgcolor": "white",
           "lakecolor": "white",
           "landcolor": "white",
           "showlakes": true,
           "showland": true,
           "subunitcolor": "#C8D4E3"
          },
          "hoverlabel": {
           "align": "left"
          },
          "hovermode": "closest",
          "mapbox": {
           "style": "light"
          },
          "paper_bgcolor": "white",
          "plot_bgcolor": "white",
          "polar": {
           "angularaxis": {
            "gridcolor": "#EBF0F8",
            "linecolor": "#EBF0F8",
            "ticks": ""
           },
           "bgcolor": "white",
           "radialaxis": {
            "gridcolor": "#EBF0F8",
            "linecolor": "#EBF0F8",
            "ticks": ""
           }
          },
          "scene": {
           "xaxis": {
            "backgroundcolor": "white",
            "gridcolor": "#DFE8F3",
            "gridwidth": 2,
            "linecolor": "#EBF0F8",
            "showbackground": true,
            "ticks": "",
            "zerolinecolor": "#EBF0F8"
           },
           "yaxis": {
            "backgroundcolor": "white",
            "gridcolor": "#DFE8F3",
            "gridwidth": 2,
            "linecolor": "#EBF0F8",
            "showbackground": true,
            "ticks": "",
            "zerolinecolor": "#EBF0F8"
           },
           "zaxis": {
            "backgroundcolor": "white",
            "gridcolor": "#DFE8F3",
            "gridwidth": 2,
            "linecolor": "#EBF0F8",
            "showbackground": true,
            "ticks": "",
            "zerolinecolor": "#EBF0F8"
           }
          },
          "shapedefaults": {
           "line": {
            "color": "#2a3f5f"
           }
          },
          "ternary": {
           "aaxis": {
            "gridcolor": "#DFE8F3",
            "linecolor": "#A2B1C6",
            "ticks": ""
           },
           "baxis": {
            "gridcolor": "#DFE8F3",
            "linecolor": "#A2B1C6",
            "ticks": ""
           },
           "bgcolor": "white",
           "caxis": {
            "gridcolor": "#DFE8F3",
            "linecolor": "#A2B1C6",
            "ticks": ""
           }
          },
          "title": {
           "x": 0.05
          },
          "xaxis": {
           "automargin": true,
           "gridcolor": "#EBF0F8",
           "linecolor": "#EBF0F8",
           "ticks": "",
           "title": {
            "standoff": 15
           },
           "zerolinecolor": "#EBF0F8",
           "zerolinewidth": 2
          },
          "yaxis": {
           "automargin": true,
           "gridcolor": "#EBF0F8",
           "linecolor": "#EBF0F8",
           "ticks": "",
           "title": {
            "standoff": 15
           },
           "zerolinecolor": "#EBF0F8",
           "zerolinewidth": 2
          }
         }
        },
        "title": {
         "text": "Asset Correlation Matrix"
        },
        "xaxis": {
         "title": {
          "text": "Assets"
         }
        },
        "yaxis": {
         "title": {
          "text": "Assets"
         }
        }
       }
      }
     },
     "metadata": {},
     "output_type": "display_data"
    }
   ],
   "source": [
    "import plotly.graph_objects as go\n",
    "import numpy as np\n",
    "\n",
    "# Assuming asset_correlation_matrix is a pandas DataFrame\n",
    "fig = go.Figure(data=go.Heatmap(\n",
    "    z=asset_correlation_matrix_df.values,\n",
    "    x=asset_correlation_matrix_df.columns,\n",
    "    y=asset_correlation_matrix_df.index,\n",
    "    colorscale='RdBu',       # Red-Blue diverging colormap\n",
    "    zmin=-1,\n",
    "    zmax=1,\n",
    "    colorbar=dict(title='Correlation'),\n",
    "    hoverongaps=False\n",
    "))\n",
    "\n",
    "fig.update_layout(\n",
    "    title=\"Asset Correlation Matrix\",\n",
    "    xaxis_title=\"Assets\",\n",
    "    yaxis_title=\"Assets\",\n",
    "    template=\"plotly_white\"\n",
    ")\n",
    "\n",
    "fig.show()\n",
    "\n",
    "#add number\n",
    "#reverse order"
   ]
  },
  {
   "cell_type": "code",
   "execution_count": 93,
   "id": "b5479e6f",
   "metadata": {},
   "outputs": [],
   "source": [
    "summary_data = asset_risk_return_df.copy()\n",
    "summary_data = summary_data.reset_index().rename(columns={'index': 'Asset'})\n",
    "\n",
    "# Append MVE and MVP data as separate rows\n",
    "summary_data = pd.concat([\n",
    "    summary_data,\n",
    "    pd.DataFrame([\n",
    "        {\n",
    "            \"Ticker\": \"MVE\",\n",
    "            \"Return\": mve_mean,\n",
    "            \"Deviation\": mve_stdev,\n",
    "            \"Sharpe\": mve_sharpe\n",
    "        },\n",
    "        {\n",
    "            \"Ticker\": \"MVP\",\n",
    "            \"Return\": mvp_mean,\n",
    "            \"Deviation\": mvp_stdev,\n",
    "            \"Sharpe\": mvp_sharpe\n",
    "        }\n",
    "    ])\n",
    "], ignore_index=True)\n"
   ]
  },
  {
   "cell_type": "code",
   "execution_count": 94,
   "id": "0a06ebc4",
   "metadata": {},
   "outputs": [
    {
     "data": {
      "application/vnd.plotly.v1+json": {
       "config": {
        "plotlyServerURL": "https://plot.ly"
       },
       "data": [
        {
         "cells": {
          "align": "center",
          "fill": {
           "color": "white"
          },
          "values": [
           [
            "AAPL",
            "BA",
            "GOOGL",
            "META",
            "TSM",
            "VOO",
            "MVE",
            "MVP"
           ],
           [
            0.2531,
            0.1478,
            0.2055,
            0.2719,
            0.326,
            0.1469,
            0.2765,
            0.1469
           ],
           [
            0.2756,
            0.3906,
            0.2406,
            0.3487,
            0.3163,
            0.1558,
            0.2329,
            0.1558
           ],
           [
            0.8458,
            0.3273,
            0.7709,
            0.7225,
            0.9674,
            0.8141,
            1.1013,
            0.8141
           ]
          ]
         },
         "header": {
          "align": "center",
          "fill": {
           "color": "lightblue"
          },
          "values": [
           "<b>Ticker</b>",
           "<b>Return</b>",
           "<b>Deviation</b>",
           "<b>Sharpe Ratio</b>"
          ]
         },
         "type": "table"
        }
       ],
       "layout": {
        "template": {
         "data": {
          "bar": [
           {
            "error_x": {
             "color": "#2a3f5f"
            },
            "error_y": {
             "color": "#2a3f5f"
            },
            "marker": {
             "line": {
              "color": "#E5ECF6",
              "width": 0.5
             },
             "pattern": {
              "fillmode": "overlay",
              "size": 10,
              "solidity": 0.2
             }
            },
            "type": "bar"
           }
          ],
          "barpolar": [
           {
            "marker": {
             "line": {
              "color": "#E5ECF6",
              "width": 0.5
             },
             "pattern": {
              "fillmode": "overlay",
              "size": 10,
              "solidity": 0.2
             }
            },
            "type": "barpolar"
           }
          ],
          "carpet": [
           {
            "aaxis": {
             "endlinecolor": "#2a3f5f",
             "gridcolor": "white",
             "linecolor": "white",
             "minorgridcolor": "white",
             "startlinecolor": "#2a3f5f"
            },
            "baxis": {
             "endlinecolor": "#2a3f5f",
             "gridcolor": "white",
             "linecolor": "white",
             "minorgridcolor": "white",
             "startlinecolor": "#2a3f5f"
            },
            "type": "carpet"
           }
          ],
          "choropleth": [
           {
            "colorbar": {
             "outlinewidth": 0,
             "ticks": ""
            },
            "type": "choropleth"
           }
          ],
          "contour": [
           {
            "colorbar": {
             "outlinewidth": 0,
             "ticks": ""
            },
            "colorscale": [
             [
              0,
              "#0d0887"
             ],
             [
              0.1111111111111111,
              "#46039f"
             ],
             [
              0.2222222222222222,
              "#7201a8"
             ],
             [
              0.3333333333333333,
              "#9c179e"
             ],
             [
              0.4444444444444444,
              "#bd3786"
             ],
             [
              0.5555555555555556,
              "#d8576b"
             ],
             [
              0.6666666666666666,
              "#ed7953"
             ],
             [
              0.7777777777777778,
              "#fb9f3a"
             ],
             [
              0.8888888888888888,
              "#fdca26"
             ],
             [
              1,
              "#f0f921"
             ]
            ],
            "type": "contour"
           }
          ],
          "contourcarpet": [
           {
            "colorbar": {
             "outlinewidth": 0,
             "ticks": ""
            },
            "type": "contourcarpet"
           }
          ],
          "heatmap": [
           {
            "colorbar": {
             "outlinewidth": 0,
             "ticks": ""
            },
            "colorscale": [
             [
              0,
              "#0d0887"
             ],
             [
              0.1111111111111111,
              "#46039f"
             ],
             [
              0.2222222222222222,
              "#7201a8"
             ],
             [
              0.3333333333333333,
              "#9c179e"
             ],
             [
              0.4444444444444444,
              "#bd3786"
             ],
             [
              0.5555555555555556,
              "#d8576b"
             ],
             [
              0.6666666666666666,
              "#ed7953"
             ],
             [
              0.7777777777777778,
              "#fb9f3a"
             ],
             [
              0.8888888888888888,
              "#fdca26"
             ],
             [
              1,
              "#f0f921"
             ]
            ],
            "type": "heatmap"
           }
          ],
          "heatmapgl": [
           {
            "colorbar": {
             "outlinewidth": 0,
             "ticks": ""
            },
            "colorscale": [
             [
              0,
              "#0d0887"
             ],
             [
              0.1111111111111111,
              "#46039f"
             ],
             [
              0.2222222222222222,
              "#7201a8"
             ],
             [
              0.3333333333333333,
              "#9c179e"
             ],
             [
              0.4444444444444444,
              "#bd3786"
             ],
             [
              0.5555555555555556,
              "#d8576b"
             ],
             [
              0.6666666666666666,
              "#ed7953"
             ],
             [
              0.7777777777777778,
              "#fb9f3a"
             ],
             [
              0.8888888888888888,
              "#fdca26"
             ],
             [
              1,
              "#f0f921"
             ]
            ],
            "type": "heatmapgl"
           }
          ],
          "histogram": [
           {
            "marker": {
             "pattern": {
              "fillmode": "overlay",
              "size": 10,
              "solidity": 0.2
             }
            },
            "type": "histogram"
           }
          ],
          "histogram2d": [
           {
            "colorbar": {
             "outlinewidth": 0,
             "ticks": ""
            },
            "colorscale": [
             [
              0,
              "#0d0887"
             ],
             [
              0.1111111111111111,
              "#46039f"
             ],
             [
              0.2222222222222222,
              "#7201a8"
             ],
             [
              0.3333333333333333,
              "#9c179e"
             ],
             [
              0.4444444444444444,
              "#bd3786"
             ],
             [
              0.5555555555555556,
              "#d8576b"
             ],
             [
              0.6666666666666666,
              "#ed7953"
             ],
             [
              0.7777777777777778,
              "#fb9f3a"
             ],
             [
              0.8888888888888888,
              "#fdca26"
             ],
             [
              1,
              "#f0f921"
             ]
            ],
            "type": "histogram2d"
           }
          ],
          "histogram2dcontour": [
           {
            "colorbar": {
             "outlinewidth": 0,
             "ticks": ""
            },
            "colorscale": [
             [
              0,
              "#0d0887"
             ],
             [
              0.1111111111111111,
              "#46039f"
             ],
             [
              0.2222222222222222,
              "#7201a8"
             ],
             [
              0.3333333333333333,
              "#9c179e"
             ],
             [
              0.4444444444444444,
              "#bd3786"
             ],
             [
              0.5555555555555556,
              "#d8576b"
             ],
             [
              0.6666666666666666,
              "#ed7953"
             ],
             [
              0.7777777777777778,
              "#fb9f3a"
             ],
             [
              0.8888888888888888,
              "#fdca26"
             ],
             [
              1,
              "#f0f921"
             ]
            ],
            "type": "histogram2dcontour"
           }
          ],
          "mesh3d": [
           {
            "colorbar": {
             "outlinewidth": 0,
             "ticks": ""
            },
            "type": "mesh3d"
           }
          ],
          "parcoords": [
           {
            "line": {
             "colorbar": {
              "outlinewidth": 0,
              "ticks": ""
             }
            },
            "type": "parcoords"
           }
          ],
          "pie": [
           {
            "automargin": true,
            "type": "pie"
           }
          ],
          "scatter": [
           {
            "fillpattern": {
             "fillmode": "overlay",
             "size": 10,
             "solidity": 0.2
            },
            "type": "scatter"
           }
          ],
          "scatter3d": [
           {
            "line": {
             "colorbar": {
              "outlinewidth": 0,
              "ticks": ""
             }
            },
            "marker": {
             "colorbar": {
              "outlinewidth": 0,
              "ticks": ""
             }
            },
            "type": "scatter3d"
           }
          ],
          "scattercarpet": [
           {
            "marker": {
             "colorbar": {
              "outlinewidth": 0,
              "ticks": ""
             }
            },
            "type": "scattercarpet"
           }
          ],
          "scattergeo": [
           {
            "marker": {
             "colorbar": {
              "outlinewidth": 0,
              "ticks": ""
             }
            },
            "type": "scattergeo"
           }
          ],
          "scattergl": [
           {
            "marker": {
             "colorbar": {
              "outlinewidth": 0,
              "ticks": ""
             }
            },
            "type": "scattergl"
           }
          ],
          "scattermapbox": [
           {
            "marker": {
             "colorbar": {
              "outlinewidth": 0,
              "ticks": ""
             }
            },
            "type": "scattermapbox"
           }
          ],
          "scatterpolar": [
           {
            "marker": {
             "colorbar": {
              "outlinewidth": 0,
              "ticks": ""
             }
            },
            "type": "scatterpolar"
           }
          ],
          "scatterpolargl": [
           {
            "marker": {
             "colorbar": {
              "outlinewidth": 0,
              "ticks": ""
             }
            },
            "type": "scatterpolargl"
           }
          ],
          "scatterternary": [
           {
            "marker": {
             "colorbar": {
              "outlinewidth": 0,
              "ticks": ""
             }
            },
            "type": "scatterternary"
           }
          ],
          "surface": [
           {
            "colorbar": {
             "outlinewidth": 0,
             "ticks": ""
            },
            "colorscale": [
             [
              0,
              "#0d0887"
             ],
             [
              0.1111111111111111,
              "#46039f"
             ],
             [
              0.2222222222222222,
              "#7201a8"
             ],
             [
              0.3333333333333333,
              "#9c179e"
             ],
             [
              0.4444444444444444,
              "#bd3786"
             ],
             [
              0.5555555555555556,
              "#d8576b"
             ],
             [
              0.6666666666666666,
              "#ed7953"
             ],
             [
              0.7777777777777778,
              "#fb9f3a"
             ],
             [
              0.8888888888888888,
              "#fdca26"
             ],
             [
              1,
              "#f0f921"
             ]
            ],
            "type": "surface"
           }
          ],
          "table": [
           {
            "cells": {
             "fill": {
              "color": "#EBF0F8"
             },
             "line": {
              "color": "white"
             }
            },
            "header": {
             "fill": {
              "color": "#C8D4E3"
             },
             "line": {
              "color": "white"
             }
            },
            "type": "table"
           }
          ]
         },
         "layout": {
          "annotationdefaults": {
           "arrowcolor": "#2a3f5f",
           "arrowhead": 0,
           "arrowwidth": 1
          },
          "autotypenumbers": "strict",
          "coloraxis": {
           "colorbar": {
            "outlinewidth": 0,
            "ticks": ""
           }
          },
          "colorscale": {
           "diverging": [
            [
             0,
             "#8e0152"
            ],
            [
             0.1,
             "#c51b7d"
            ],
            [
             0.2,
             "#de77ae"
            ],
            [
             0.3,
             "#f1b6da"
            ],
            [
             0.4,
             "#fde0ef"
            ],
            [
             0.5,
             "#f7f7f7"
            ],
            [
             0.6,
             "#e6f5d0"
            ],
            [
             0.7,
             "#b8e186"
            ],
            [
             0.8,
             "#7fbc41"
            ],
            [
             0.9,
             "#4d9221"
            ],
            [
             1,
             "#276419"
            ]
           ],
           "sequential": [
            [
             0,
             "#0d0887"
            ],
            [
             0.1111111111111111,
             "#46039f"
            ],
            [
             0.2222222222222222,
             "#7201a8"
            ],
            [
             0.3333333333333333,
             "#9c179e"
            ],
            [
             0.4444444444444444,
             "#bd3786"
            ],
            [
             0.5555555555555556,
             "#d8576b"
            ],
            [
             0.6666666666666666,
             "#ed7953"
            ],
            [
             0.7777777777777778,
             "#fb9f3a"
            ],
            [
             0.8888888888888888,
             "#fdca26"
            ],
            [
             1,
             "#f0f921"
            ]
           ],
           "sequentialminus": [
            [
             0,
             "#0d0887"
            ],
            [
             0.1111111111111111,
             "#46039f"
            ],
            [
             0.2222222222222222,
             "#7201a8"
            ],
            [
             0.3333333333333333,
             "#9c179e"
            ],
            [
             0.4444444444444444,
             "#bd3786"
            ],
            [
             0.5555555555555556,
             "#d8576b"
            ],
            [
             0.6666666666666666,
             "#ed7953"
            ],
            [
             0.7777777777777778,
             "#fb9f3a"
            ],
            [
             0.8888888888888888,
             "#fdca26"
            ],
            [
             1,
             "#f0f921"
            ]
           ]
          },
          "colorway": [
           "#636efa",
           "#EF553B",
           "#00cc96",
           "#ab63fa",
           "#FFA15A",
           "#19d3f3",
           "#FF6692",
           "#B6E880",
           "#FF97FF",
           "#FECB52"
          ],
          "font": {
           "color": "#2a3f5f"
          },
          "geo": {
           "bgcolor": "white",
           "lakecolor": "white",
           "landcolor": "#E5ECF6",
           "showlakes": true,
           "showland": true,
           "subunitcolor": "white"
          },
          "hoverlabel": {
           "align": "left"
          },
          "hovermode": "closest",
          "mapbox": {
           "style": "light"
          },
          "paper_bgcolor": "white",
          "plot_bgcolor": "#E5ECF6",
          "polar": {
           "angularaxis": {
            "gridcolor": "white",
            "linecolor": "white",
            "ticks": ""
           },
           "bgcolor": "#E5ECF6",
           "radialaxis": {
            "gridcolor": "white",
            "linecolor": "white",
            "ticks": ""
           }
          },
          "scene": {
           "xaxis": {
            "backgroundcolor": "#E5ECF6",
            "gridcolor": "white",
            "gridwidth": 2,
            "linecolor": "white",
            "showbackground": true,
            "ticks": "",
            "zerolinecolor": "white"
           },
           "yaxis": {
            "backgroundcolor": "#E5ECF6",
            "gridcolor": "white",
            "gridwidth": 2,
            "linecolor": "white",
            "showbackground": true,
            "ticks": "",
            "zerolinecolor": "white"
           },
           "zaxis": {
            "backgroundcolor": "#E5ECF6",
            "gridcolor": "white",
            "gridwidth": 2,
            "linecolor": "white",
            "showbackground": true,
            "ticks": "",
            "zerolinecolor": "white"
           }
          },
          "shapedefaults": {
           "line": {
            "color": "#2a3f5f"
           }
          },
          "ternary": {
           "aaxis": {
            "gridcolor": "white",
            "linecolor": "white",
            "ticks": ""
           },
           "baxis": {
            "gridcolor": "white",
            "linecolor": "white",
            "ticks": ""
           },
           "bgcolor": "#E5ECF6",
           "caxis": {
            "gridcolor": "white",
            "linecolor": "white",
            "ticks": ""
           }
          },
          "title": {
           "x": 0.05
          },
          "xaxis": {
           "automargin": true,
           "gridcolor": "white",
           "linecolor": "white",
           "ticks": "",
           "title": {
            "standoff": 15
           },
           "zerolinecolor": "white",
           "zerolinewidth": 2
          },
          "yaxis": {
           "automargin": true,
           "gridcolor": "white",
           "linecolor": "white",
           "ticks": "",
           "title": {
            "standoff": 15
           },
           "zerolinecolor": "white",
           "zerolinewidth": 2
          }
         }
        },
        "title": {
         "text": "Risk-Return Summary Table with Sharpe Ratios"
        }
       }
      }
     },
     "metadata": {},
     "output_type": "display_data"
    }
   ],
   "source": [
    "import plotly.graph_objects as go\n",
    "\n",
    "fig = go.Figure(data=[go.Table(\n",
    "    header=dict(\n",
    "        values=[\"<b>Ticker</b>\", \"<b>Return</b>\", \"<b>Deviation</b>\", \"<b>Sharpe Ratio</b>\"],\n",
    "        fill_color='lightblue',\n",
    "        align='center'\n",
    "    ),\n",
    "    cells=dict(\n",
    "        values=[\n",
    "            summary_data[\"Ticker\"],\n",
    "            summary_data[\"Return\"].round(4),\n",
    "            summary_data[\"Deviation\"].round(4),\n",
    "            summary_data[\"Sharpe\"].round(4)\n",
    "        ],\n",
    "        fill_color='white',\n",
    "        align='center'\n",
    "    )\n",
    ")])\n",
    "\n",
    "fig.update_layout(title=\"Risk-Return Summary Table with Sharpe Ratios\")\n",
    "fig.show()\n"
   ]
  },
  {
   "cell_type": "code",
   "execution_count": null,
   "id": "8e682549",
   "metadata": {},
   "outputs": [],
   "source": []
  }
 ],
 "metadata": {
  "kernelspec": {
   "display_name": "Python 3",
   "language": "python",
   "name": "python3"
  },
  "language_info": {
   "codemirror_mode": {
    "name": "ipython",
    "version": 3
   },
   "file_extension": ".py",
   "mimetype": "text/x-python",
   "name": "python",
   "nbconvert_exporter": "python",
   "pygments_lexer": "ipython3",
   "version": "3.12.5"
  }
 },
 "nbformat": 4,
 "nbformat_minor": 5
}
